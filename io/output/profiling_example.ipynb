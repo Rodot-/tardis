{
 "cells": [
  {
   "cell_type": "markdown",
   "id": "a9336af1",
   "metadata": {},
   "source": [
    "# Basic Profile of TARDIS #"
   ]
  },
  {
   "cell_type": "markdown",
   "id": "e825ec8b",
   "metadata": {},
   "source": [
    "A profile is a set of statistics that describes how often and for how long various parts of the program execute (cProfile). A majority of TARDIS can be profiled, however, some code is Numba code, which cannot be profiled. This is because Numba compiles these functions directly to machine code; the python interpreter doesn’t see these functions and therefore it doesn’t read them.\n",
    "\n",
    "This notebook uses snakeviz, which is a graphical viewer for the output of cProfile, to visualize the results and make them interactive. In order to use SnakeViz, you must first download it via pip. The first cell loads SnakeViz and gets the notebook ready to run TARDIS."
   ]
  },
  {
   "cell_type": "code",
   "execution_count": 1,
   "id": "88cdeafd",
   "metadata": {
    "execution": {
     "iopub.execute_input": "2021-07-04T01:17:23.224591Z",
     "iopub.status.busy": "2021-07-04T01:17:23.223984Z",
     "iopub.status.idle": "2021-07-04T01:17:23.897008Z",
     "shell.execute_reply": "2021-07-04T01:17:23.895853Z"
    }
   },
   "outputs": [
    {
     "name": "stderr",
     "output_type": "stream",
     "text": [
      "/usr/share/miniconda3/envs/tardis/lib/python3.7/importlib/_bootstrap.py:219: QAWarning: pyne.data is not yet QA compliant.\n",
      "  return f(*args, **kwds)\n"
     ]
    },
    {
     "name": "stdout",
     "output_type": "stream",
     "text": [
      "[\u001b[1mtardis.io.atom_data.atom_web_download\u001b[0m][\u001b[1;37mINFO\u001b[0m   ]  Downloading atomic data from https://media.githubusercontent.com/media/tardis-sn/tardis-refdata/master/atom_data/kurucz_cd23_chianti_H_He.h5 to /home/runner/Downloads/tardis-data/kurucz_cd23_chianti_H_He.h5 (\u001b[1matom_web_download.py\u001b[0m:46)\n"
     ]
    }
   ],
   "source": [
    "%load_ext snakeviz\n",
    "\n",
    "from tardis import run_tardis\n",
    "from tardis.io.atom_data.util import download_atom_data\n",
    "download_atom_data('kurucz_cd23_chianti_H_He')"
   ]
  },
  {
   "cell_type": "markdown",
   "id": "156b9891",
   "metadata": {},
   "source": [
    "I am telling the cell below to use snakeviz on the function below, which is a run of TARDIS in its enteriety. An option is to add the -t flag, which will tell it to display the HTML in a new tab, instead of embedding it."
   ]
  },
  {
   "cell_type": "code",
   "execution_count": 2,
   "id": "32f39ab9",
   "metadata": {
    "execution": {
     "iopub.execute_input": "2021-07-04T01:17:23.901752Z",
     "iopub.status.busy": "2021-07-04T01:17:23.900915Z",
     "iopub.status.idle": "2021-07-04T01:18:17.839727Z",
     "shell.execute_reply": "2021-07-04T01:18:17.840207Z"
    },
    "scrolled": true
   },
   "outputs": [
    {
     "name": "stdout",
     "output_type": "stream",
     "text": [
      "[\u001b[1mtardis.plasma.standard_plasmas\u001b[0m][\u001b[1;37mINFO\u001b[0m   ]  \n",
      "\tReading Atomic Data from kurucz_cd23_chianti_H_He.h5 (\u001b[1mstandard_plasmas.py\u001b[0m:91)\n"
     ]
    },
    {
     "name": "stdout",
     "output_type": "stream",
     "text": [
      "[\u001b[1mtardis.io.atom_data.util\u001b[0m][\u001b[1;37mINFO\u001b[0m   ]  \n",
      "\tAtom Data kurucz_cd23_chianti_H_He.h5 not found in local path.\n",
      "\tExists in TARDIS Data repo /home/runner/Downloads/tardis-data/kurucz_cd23_chianti_H_He.h5 (\u001b[1mutil.py\u001b[0m:34)\n"
     ]
    },
    {
     "name": "stdout",
     "output_type": "stream",
     "text": [
      "[\u001b[1mtardis.io.atom_data.base\u001b[0m][\u001b[1;37mINFO\u001b[0m   ]  \n",
      "\tReading Atom Data with:\n",
      "\tUUID = 6f7b09e887a311e7a06b246e96350010\n",
      "\tMD5  = 864f1753714343c41f99cb065710cace  (\u001b[1mbase.py\u001b[0m:189)\n"
     ]
    },
    {
     "name": "stdout",
     "output_type": "stream",
     "text": [
      "[\u001b[1mtardis.io.atom_data.base\u001b[0m][\u001b[1;37mINFO\u001b[0m   ]  \n",
      "\tNon provided atomic data:\n",
      "\tsynpp_refs, photoionization_data, yg_data, two_photon_data (\u001b[1mbase.py\u001b[0m:193)\n"
     ]
    },
    {
     "name": "stdout",
     "output_type": "stream",
     "text": [
      "[\u001b[1mtardis.simulation.base\u001b[0m][\u001b[1;37mINFO\u001b[0m   ]  \n",
      "\tStarting iteration 1 of 20 (\u001b[1mbase.py\u001b[0m:325)\n"
     ]
    },
    {
     "name": "stdout",
     "output_type": "stream",
     "text": [
      "[\u001b[1mpy.warnings         \u001b[0m][\u001b[1;33mWARNING\u001b[0m]  /usr/share/miniconda3/envs/tardis/lib/python3.7/site-packages/astropy/units/equivalencies.py:124: RuntimeWarning: divide by zero encountered in double_scalars\n",
      "  (si.m, si.Hz, lambda x: _si.c.value / x),\n",
      " (\u001b[1mwarnings.py\u001b[0m:110)\n"
     ]
    },
    {
     "name": "stdout",
     "output_type": "stream",
     "text": [
      "[\u001b[1mtardis.simulation.base\u001b[0m][\u001b[1;37mINFO\u001b[0m   ]  \n",
      "\tLuminosity emitted   = 7.942e+42 erg / s\n",
      "\tLuminosity absorbed  = 2.659e+42 erg / s\n",
      "\tLuminosity requested = 1.059e+43 erg / s\n",
      " (\u001b[1mbase.py\u001b[0m:453)\n"
     ]
    },
    {
     "name": "stdout",
     "output_type": "stream",
     "text": [
      "[\u001b[1mtardis.simulation.base\u001b[0m][\u001b[1;37mINFO\u001b[0m   ]  \n",
      "\tPlasma stratification: (\u001b[1mbase.py\u001b[0m:430)\n"
     ]
    },
    {
     "name": "stdout",
     "output_type": "stream",
     "text": [
      "[\u001b[1mpy.warnings         \u001b[0m][\u001b[1;33mWARNING\u001b[0m]  /usr/share/miniconda3/envs/tardis/lib/python3.7/site-packages/traitlets/traitlets.py:3036: FutureWarning: --rc={'figure.dpi': 96} for dict-traits is deprecated in traitlets 5.0. You can pass --rc <key=value> ... multiple times to add items to a dict.\n",
      "  FutureWarning,\n",
      " (\u001b[1mwarnings.py\u001b[0m:110)\n"
     ]
    },
    {
     "data": {
      "text/html": [
       "<style  type=\"text/css\" >\n",
       "</style><table id=\"T_a6d85358_dc65_11eb_af49_000d3afb088e\" ><thead>    <tr>        <th class=\"index_name level0\" >Shell No.</th>        <th class=\"col_heading level0 col0\" >t_rad</th>        <th class=\"col_heading level0 col1\" >next_t_rad</th>        <th class=\"col_heading level0 col2\" >w</th>        <th class=\"col_heading level0 col3\" >next_w</th>    </tr></thead><tbody>\n",
       "                <tr>\n",
       "                        <th id=\"T_a6d85358_dc65_11eb_af49_000d3afb088elevel0_row0\" class=\"row_heading level0 row0\" >0</th>\n",
       "                        <td id=\"T_a6d85358_dc65_11eb_af49_000d3afb088erow0_col0\" class=\"data row0 col0\" >9.93e+03</td>\n",
       "                        <td id=\"T_a6d85358_dc65_11eb_af49_000d3afb088erow0_col1\" class=\"data row0 col1\" >1.01e+04</td>\n",
       "                        <td id=\"T_a6d85358_dc65_11eb_af49_000d3afb088erow0_col2\" class=\"data row0 col2\" >0.4</td>\n",
       "                        <td id=\"T_a6d85358_dc65_11eb_af49_000d3afb088erow0_col3\" class=\"data row0 col3\" >0.507</td>\n",
       "            </tr>\n",
       "            <tr>\n",
       "                        <th id=\"T_a6d85358_dc65_11eb_af49_000d3afb088elevel0_row1\" class=\"row_heading level0 row1\" >5</th>\n",
       "                        <td id=\"T_a6d85358_dc65_11eb_af49_000d3afb088erow1_col0\" class=\"data row1 col0\" >9.85e+03</td>\n",
       "                        <td id=\"T_a6d85358_dc65_11eb_af49_000d3afb088erow1_col1\" class=\"data row1 col1\" >1.02e+04</td>\n",
       "                        <td id=\"T_a6d85358_dc65_11eb_af49_000d3afb088erow1_col2\" class=\"data row1 col2\" >0.211</td>\n",
       "                        <td id=\"T_a6d85358_dc65_11eb_af49_000d3afb088erow1_col3\" class=\"data row1 col3\" >0.197</td>\n",
       "            </tr>\n",
       "            <tr>\n",
       "                        <th id=\"T_a6d85358_dc65_11eb_af49_000d3afb088elevel0_row2\" class=\"row_heading level0 row2\" >10</th>\n",
       "                        <td id=\"T_a6d85358_dc65_11eb_af49_000d3afb088erow2_col0\" class=\"data row2 col0\" >9.78e+03</td>\n",
       "                        <td id=\"T_a6d85358_dc65_11eb_af49_000d3afb088erow2_col1\" class=\"data row2 col1\" >1.01e+04</td>\n",
       "                        <td id=\"T_a6d85358_dc65_11eb_af49_000d3afb088erow2_col2\" class=\"data row2 col2\" >0.143</td>\n",
       "                        <td id=\"T_a6d85358_dc65_11eb_af49_000d3afb088erow2_col3\" class=\"data row2 col3\" >0.117</td>\n",
       "            </tr>\n",
       "            <tr>\n",
       "                        <th id=\"T_a6d85358_dc65_11eb_af49_000d3afb088elevel0_row3\" class=\"row_heading level0 row3\" >15</th>\n",
       "                        <td id=\"T_a6d85358_dc65_11eb_af49_000d3afb088erow3_col0\" class=\"data row3 col0\" >9.71e+03</td>\n",
       "                        <td id=\"T_a6d85358_dc65_11eb_af49_000d3afb088erow3_col1\" class=\"data row3 col1\" >9.87e+03</td>\n",
       "                        <td id=\"T_a6d85358_dc65_11eb_af49_000d3afb088erow3_col2\" class=\"data row3 col2\" >0.105</td>\n",
       "                        <td id=\"T_a6d85358_dc65_11eb_af49_000d3afb088erow3_col3\" class=\"data row3 col3\" >0.0869</td>\n",
       "            </tr>\n",
       "    </tbody></table>"
      ],
      "text/plain": [
       "<pandas.io.formats.style.Styler at 0x7f758553c9d0>"
      ]
     },
     "metadata": {},
     "output_type": "display_data"
    },
    {
     "name": "stdout",
     "output_type": "stream",
     "text": [
      "[\u001b[1mtardis.simulation.base\u001b[0m][\u001b[1;37mINFO\u001b[0m   ]  None (\u001b[1mbase.py\u001b[0m:433)\n"
     ]
    },
    {
     "name": "stdout",
     "output_type": "stream",
     "text": [
      "[\u001b[1mtardis.simulation.base\u001b[0m][\u001b[1;37mINFO\u001b[0m   ]  \n",
      "\tCurrent t_inner = 9933.952 K\n",
      "\tExpected t_inner for next iteration = 11472.471 K\n",
      " (\u001b[1mbase.py\u001b[0m:448)\n"
     ]
    },
    {
     "name": "stdout",
     "output_type": "stream",
     "text": [
      "[\u001b[1mtardis.simulation.base\u001b[0m][\u001b[1;37mINFO\u001b[0m   ]  \n",
      "\tStarting iteration 2 of 20 (\u001b[1mbase.py\u001b[0m:325)\n"
     ]
    },
    {
     "name": "stdout",
     "output_type": "stream",
     "text": [
      "[\u001b[1mpy.warnings         \u001b[0m][\u001b[1;33mWARNING\u001b[0m]  /usr/share/miniconda3/envs/tardis/lib/python3.7/site-packages/astropy/units/equivalencies.py:124: RuntimeWarning: divide by zero encountered in double_scalars\n",
      "  (si.m, si.Hz, lambda x: _si.c.value / x),\n",
      " (\u001b[1mwarnings.py\u001b[0m:110)\n"
     ]
    },
    {
     "name": "stdout",
     "output_type": "stream",
     "text": [
      "[\u001b[1mtardis.simulation.base\u001b[0m][\u001b[1;37mINFO\u001b[0m   ]  \n",
      "\tLuminosity emitted   = 1.405e+43 erg / s\n",
      "\tLuminosity absorbed  = 4.798e+42 erg / s\n",
      "\tLuminosity requested = 1.059e+43 erg / s\n",
      " (\u001b[1mbase.py\u001b[0m:453)\n"
     ]
    },
    {
     "name": "stdout",
     "output_type": "stream",
     "text": [
      "[\u001b[1mtardis.simulation.base\u001b[0m][\u001b[1;37mINFO\u001b[0m   ]  \n",
      "\tPlasma stratification: (\u001b[1mbase.py\u001b[0m:430)\n"
     ]
    },
    {
     "data": {
      "text/html": [
       "<style  type=\"text/css\" >\n",
       "</style><table id=\"T_a73cf038_dc65_11eb_af49_000d3afb088e\" ><thead>    <tr>        <th class=\"index_name level0\" >Shell No.</th>        <th class=\"col_heading level0 col0\" >t_rad</th>        <th class=\"col_heading level0 col1\" >next_t_rad</th>        <th class=\"col_heading level0 col2\" >w</th>        <th class=\"col_heading level0 col3\" >next_w</th>    </tr></thead><tbody>\n",
       "                <tr>\n",
       "                        <th id=\"T_a73cf038_dc65_11eb_af49_000d3afb088elevel0_row0\" class=\"row_heading level0 row0\" >0</th>\n",
       "                        <td id=\"T_a73cf038_dc65_11eb_af49_000d3afb088erow0_col0\" class=\"data row0 col0\" >1.01e+04</td>\n",
       "                        <td id=\"T_a73cf038_dc65_11eb_af49_000d3afb088erow0_col1\" class=\"data row0 col1\" >1.15e+04</td>\n",
       "                        <td id=\"T_a73cf038_dc65_11eb_af49_000d3afb088erow0_col2\" class=\"data row0 col2\" >0.507</td>\n",
       "                        <td id=\"T_a73cf038_dc65_11eb_af49_000d3afb088erow0_col3\" class=\"data row0 col3\" >0.546</td>\n",
       "            </tr>\n",
       "            <tr>\n",
       "                        <th id=\"T_a73cf038_dc65_11eb_af49_000d3afb088elevel0_row1\" class=\"row_heading level0 row1\" >5</th>\n",
       "                        <td id=\"T_a73cf038_dc65_11eb_af49_000d3afb088erow1_col0\" class=\"data row1 col0\" >1.02e+04</td>\n",
       "                        <td id=\"T_a73cf038_dc65_11eb_af49_000d3afb088erow1_col1\" class=\"data row1 col1\" >1.15e+04</td>\n",
       "                        <td id=\"T_a73cf038_dc65_11eb_af49_000d3afb088erow1_col2\" class=\"data row1 col2\" >0.197</td>\n",
       "                        <td id=\"T_a73cf038_dc65_11eb_af49_000d3afb088erow1_col3\" class=\"data row1 col3\" >0.223</td>\n",
       "            </tr>\n",
       "            <tr>\n",
       "                        <th id=\"T_a73cf038_dc65_11eb_af49_000d3afb088elevel0_row2\" class=\"row_heading level0 row2\" >10</th>\n",
       "                        <td id=\"T_a73cf038_dc65_11eb_af49_000d3afb088erow2_col0\" class=\"data row2 col0\" >1.01e+04</td>\n",
       "                        <td id=\"T_a73cf038_dc65_11eb_af49_000d3afb088erow2_col1\" class=\"data row2 col1\" >1.13e+04</td>\n",
       "                        <td id=\"T_a73cf038_dc65_11eb_af49_000d3afb088erow2_col2\" class=\"data row2 col2\" >0.117</td>\n",
       "                        <td id=\"T_a73cf038_dc65_11eb_af49_000d3afb088erow2_col3\" class=\"data row2 col3\" >0.135</td>\n",
       "            </tr>\n",
       "            <tr>\n",
       "                        <th id=\"T_a73cf038_dc65_11eb_af49_000d3afb088elevel0_row3\" class=\"row_heading level0 row3\" >15</th>\n",
       "                        <td id=\"T_a73cf038_dc65_11eb_af49_000d3afb088erow3_col0\" class=\"data row3 col0\" >9.87e+03</td>\n",
       "                        <td id=\"T_a73cf038_dc65_11eb_af49_000d3afb088erow3_col1\" class=\"data row3 col1\" >1.1e+04</td>\n",
       "                        <td id=\"T_a73cf038_dc65_11eb_af49_000d3afb088erow3_col2\" class=\"data row3 col2\" >0.0869</td>\n",
       "                        <td id=\"T_a73cf038_dc65_11eb_af49_000d3afb088erow3_col3\" class=\"data row3 col3\" >0.101</td>\n",
       "            </tr>\n",
       "    </tbody></table>"
      ],
      "text/plain": [
       "<pandas.io.formats.style.Styler at 0x7f7585ab37d0>"
      ]
     },
     "metadata": {},
     "output_type": "display_data"
    },
    {
     "name": "stdout",
     "output_type": "stream",
     "text": [
      "[\u001b[1mtardis.simulation.base\u001b[0m][\u001b[1;37mINFO\u001b[0m   ]  None (\u001b[1mbase.py\u001b[0m:433)\n"
     ]
    },
    {
     "name": "stdout",
     "output_type": "stream",
     "text": [
      "[\u001b[1mtardis.simulation.base\u001b[0m][\u001b[1;37mINFO\u001b[0m   ]  \n",
      "\tCurrent t_inner = 11472.471 K\n",
      "\tExpected t_inner for next iteration = 9960.403 K\n",
      " (\u001b[1mbase.py\u001b[0m:448)\n"
     ]
    },
    {
     "name": "stdout",
     "output_type": "stream",
     "text": [
      "[\u001b[1mtardis.simulation.base\u001b[0m][\u001b[1;37mINFO\u001b[0m   ]  \n",
      "\tStarting iteration 3 of 20 (\u001b[1mbase.py\u001b[0m:325)\n"
     ]
    },
    {
     "name": "stdout",
     "output_type": "stream",
     "text": [
      "[\u001b[1mtardis.simulation.base\u001b[0m][\u001b[1;37mINFO\u001b[0m   ]  \n",
      "\tLuminosity emitted   = 8.168e+42 erg / s\n",
      "\tLuminosity absorbed  = 2.550e+42 erg / s\n",
      "\tLuminosity requested = 1.059e+43 erg / s\n",
      " (\u001b[1mbase.py\u001b[0m:453)\n"
     ]
    },
    {
     "name": "stdout",
     "output_type": "stream",
     "text": [
      "[\u001b[1mtardis.simulation.base\u001b[0m][\u001b[1;37mINFO\u001b[0m   ]  \n",
      "\tPlasma stratification: (\u001b[1mbase.py\u001b[0m:430)\n"
     ]
    },
    {
     "data": {
      "text/html": [
       "<style  type=\"text/css\" >\n",
       "</style><table id=\"T_a79a4cb0_dc65_11eb_af49_000d3afb088e\" ><thead>    <tr>        <th class=\"index_name level0\" >Shell No.</th>        <th class=\"col_heading level0 col0\" >t_rad</th>        <th class=\"col_heading level0 col1\" >next_t_rad</th>        <th class=\"col_heading level0 col2\" >w</th>        <th class=\"col_heading level0 col3\" >next_w</th>    </tr></thead><tbody>\n",
       "                <tr>\n",
       "                        <th id=\"T_a79a4cb0_dc65_11eb_af49_000d3afb088elevel0_row0\" class=\"row_heading level0 row0\" >0</th>\n",
       "                        <td id=\"T_a79a4cb0_dc65_11eb_af49_000d3afb088erow0_col0\" class=\"data row0 col0\" >1.15e+04</td>\n",
       "                        <td id=\"T_a79a4cb0_dc65_11eb_af49_000d3afb088erow0_col1\" class=\"data row0 col1\" >1.05e+04</td>\n",
       "                        <td id=\"T_a79a4cb0_dc65_11eb_af49_000d3afb088erow0_col2\" class=\"data row0 col2\" >0.546</td>\n",
       "                        <td id=\"T_a79a4cb0_dc65_11eb_af49_000d3afb088erow0_col3\" class=\"data row0 col3\" >0.442</td>\n",
       "            </tr>\n",
       "            <tr>\n",
       "                        <th id=\"T_a79a4cb0_dc65_11eb_af49_000d3afb088elevel0_row1\" class=\"row_heading level0 row1\" >5</th>\n",
       "                        <td id=\"T_a79a4cb0_dc65_11eb_af49_000d3afb088erow1_col0\" class=\"data row1 col0\" >1.15e+04</td>\n",
       "                        <td id=\"T_a79a4cb0_dc65_11eb_af49_000d3afb088erow1_col1\" class=\"data row1 col1\" >1.08e+04</td>\n",
       "                        <td id=\"T_a79a4cb0_dc65_11eb_af49_000d3afb088erow1_col2\" class=\"data row1 col2\" >0.223</td>\n",
       "                        <td id=\"T_a79a4cb0_dc65_11eb_af49_000d3afb088erow1_col3\" class=\"data row1 col3\" >0.165</td>\n",
       "            </tr>\n",
       "            <tr>\n",
       "                        <th id=\"T_a79a4cb0_dc65_11eb_af49_000d3afb088elevel0_row2\" class=\"row_heading level0 row2\" >10</th>\n",
       "                        <td id=\"T_a79a4cb0_dc65_11eb_af49_000d3afb088erow2_col0\" class=\"data row2 col0\" >1.13e+04</td>\n",
       "                        <td id=\"T_a79a4cb0_dc65_11eb_af49_000d3afb088erow2_col1\" class=\"data row2 col1\" >1.07e+04</td>\n",
       "                        <td id=\"T_a79a4cb0_dc65_11eb_af49_000d3afb088erow2_col2\" class=\"data row2 col2\" >0.135</td>\n",
       "                        <td id=\"T_a79a4cb0_dc65_11eb_af49_000d3afb088erow2_col3\" class=\"data row2 col3\" >0.101</td>\n",
       "            </tr>\n",
       "            <tr>\n",
       "                        <th id=\"T_a79a4cb0_dc65_11eb_af49_000d3afb088elevel0_row3\" class=\"row_heading level0 row3\" >15</th>\n",
       "                        <td id=\"T_a79a4cb0_dc65_11eb_af49_000d3afb088erow3_col0\" class=\"data row3 col0\" >1.1e+04</td>\n",
       "                        <td id=\"T_a79a4cb0_dc65_11eb_af49_000d3afb088erow3_col1\" class=\"data row3 col1\" >1.02e+04</td>\n",
       "                        <td id=\"T_a79a4cb0_dc65_11eb_af49_000d3afb088erow3_col2\" class=\"data row3 col2\" >0.101</td>\n",
       "                        <td id=\"T_a79a4cb0_dc65_11eb_af49_000d3afb088erow3_col3\" class=\"data row3 col3\" >0.0781</td>\n",
       "            </tr>\n",
       "    </tbody></table>"
      ],
      "text/plain": [
       "<pandas.io.formats.style.Styler at 0x7f75862c3490>"
      ]
     },
     "metadata": {},
     "output_type": "display_data"
    },
    {
     "name": "stdout",
     "output_type": "stream",
     "text": [
      "[\u001b[1mtardis.simulation.base\u001b[0m][\u001b[1;37mINFO\u001b[0m   ]  None (\u001b[1mbase.py\u001b[0m:433)\n"
     ]
    },
    {
     "name": "stdout",
     "output_type": "stream",
     "text": [
      "[\u001b[1mtardis.simulation.base\u001b[0m][\u001b[1;37mINFO\u001b[0m   ]  \n",
      "\tCurrent t_inner = 9960.403 K\n",
      "\tExpected t_inner for next iteration = 11342.715 K\n",
      " (\u001b[1mbase.py\u001b[0m:448)\n"
     ]
    },
    {
     "name": "stdout",
     "output_type": "stream",
     "text": [
      "[\u001b[1mtardis.simulation.base\u001b[0m][\u001b[1;37mINFO\u001b[0m   ]  \n",
      "\tStarting iteration 4 of 20 (\u001b[1mbase.py\u001b[0m:325)\n"
     ]
    },
    {
     "name": "stdout",
     "output_type": "stream",
     "text": [
      "[\u001b[1mtardis.simulation.base\u001b[0m][\u001b[1;37mINFO\u001b[0m   ]  \n",
      "\tLuminosity emitted   = 1.356e+43 erg / s\n",
      "\tLuminosity absorbed  = 4.460e+42 erg / s\n",
      "\tLuminosity requested = 1.059e+43 erg / s\n",
      " (\u001b[1mbase.py\u001b[0m:453)\n"
     ]
    },
    {
     "name": "stdout",
     "output_type": "stream",
     "text": [
      "[\u001b[1mtardis.simulation.base\u001b[0m][\u001b[1;37mINFO\u001b[0m   ]  \n",
      "\tPlasma stratification: (\u001b[1mbase.py\u001b[0m:430)\n"
     ]
    },
    {
     "data": {
      "text/html": [
       "<style  type=\"text/css\" >\n",
       "</style><table id=\"T_a7f64b6e_dc65_11eb_af49_000d3afb088e\" ><thead>    <tr>        <th class=\"index_name level0\" >Shell No.</th>        <th class=\"col_heading level0 col0\" >t_rad</th>        <th class=\"col_heading level0 col1\" >next_t_rad</th>        <th class=\"col_heading level0 col2\" >w</th>        <th class=\"col_heading level0 col3\" >next_w</th>    </tr></thead><tbody>\n",
       "                <tr>\n",
       "                        <th id=\"T_a7f64b6e_dc65_11eb_af49_000d3afb088elevel0_row0\" class=\"row_heading level0 row0\" >0</th>\n",
       "                        <td id=\"T_a7f64b6e_dc65_11eb_af49_000d3afb088erow0_col0\" class=\"data row0 col0\" >1.05e+04</td>\n",
       "                        <td id=\"T_a7f64b6e_dc65_11eb_af49_000d3afb088erow0_col1\" class=\"data row0 col1\" >1.16e+04</td>\n",
       "                        <td id=\"T_a7f64b6e_dc65_11eb_af49_000d3afb088erow0_col2\" class=\"data row0 col2\" >0.442</td>\n",
       "                        <td id=\"T_a7f64b6e_dc65_11eb_af49_000d3afb088erow0_col3\" class=\"data row0 col3\" >0.498</td>\n",
       "            </tr>\n",
       "            <tr>\n",
       "                        <th id=\"T_a7f64b6e_dc65_11eb_af49_000d3afb088elevel0_row1\" class=\"row_heading level0 row1\" >5</th>\n",
       "                        <td id=\"T_a7f64b6e_dc65_11eb_af49_000d3afb088erow1_col0\" class=\"data row1 col0\" >1.08e+04</td>\n",
       "                        <td id=\"T_a7f64b6e_dc65_11eb_af49_000d3afb088erow1_col1\" class=\"data row1 col1\" >1.17e+04</td>\n",
       "                        <td id=\"T_a7f64b6e_dc65_11eb_af49_000d3afb088erow1_col2\" class=\"data row1 col2\" >0.165</td>\n",
       "                        <td id=\"T_a7f64b6e_dc65_11eb_af49_000d3afb088erow1_col3\" class=\"data row1 col3\" >0.201</td>\n",
       "            </tr>\n",
       "            <tr>\n",
       "                        <th id=\"T_a7f64b6e_dc65_11eb_af49_000d3afb088elevel0_row2\" class=\"row_heading level0 row2\" >10</th>\n",
       "                        <td id=\"T_a7f64b6e_dc65_11eb_af49_000d3afb088erow2_col0\" class=\"data row2 col0\" >1.07e+04</td>\n",
       "                        <td id=\"T_a7f64b6e_dc65_11eb_af49_000d3afb088erow2_col1\" class=\"data row2 col1\" >1.14e+04</td>\n",
       "                        <td id=\"T_a7f64b6e_dc65_11eb_af49_000d3afb088erow2_col2\" class=\"data row2 col2\" >0.101</td>\n",
       "                        <td id=\"T_a7f64b6e_dc65_11eb_af49_000d3afb088erow2_col3\" class=\"data row2 col3\" >0.127</td>\n",
       "            </tr>\n",
       "            <tr>\n",
       "                        <th id=\"T_a7f64b6e_dc65_11eb_af49_000d3afb088elevel0_row3\" class=\"row_heading level0 row3\" >15</th>\n",
       "                        <td id=\"T_a7f64b6e_dc65_11eb_af49_000d3afb088erow3_col0\" class=\"data row3 col0\" >1.02e+04</td>\n",
       "                        <td id=\"T_a7f64b6e_dc65_11eb_af49_000d3afb088erow3_col1\" class=\"data row3 col1\" >1.1e+04</td>\n",
       "                        <td id=\"T_a7f64b6e_dc65_11eb_af49_000d3afb088erow3_col2\" class=\"data row3 col2\" >0.0781</td>\n",
       "                        <td id=\"T_a7f64b6e_dc65_11eb_af49_000d3afb088erow3_col3\" class=\"data row3 col3\" >0.0953</td>\n",
       "            </tr>\n",
       "    </tbody></table>"
      ],
      "text/plain": [
       "<pandas.io.formats.style.Styler at 0x7f7585ddee50>"
      ]
     },
     "metadata": {},
     "output_type": "display_data"
    },
    {
     "name": "stdout",
     "output_type": "stream",
     "text": [
      "[\u001b[1mtardis.simulation.base\u001b[0m][\u001b[1;37mINFO\u001b[0m   ]  None (\u001b[1mbase.py\u001b[0m:433)\n"
     ]
    },
    {
     "name": "stdout",
     "output_type": "stream",
     "text": [
      "[\u001b[1mtardis.simulation.base\u001b[0m][\u001b[1;37mINFO\u001b[0m   ]  \n",
      "\tCurrent t_inner = 11342.715 K\n",
      "\tExpected t_inner for next iteration = 10026.022 K\n",
      " (\u001b[1mbase.py\u001b[0m:448)\n"
     ]
    },
    {
     "name": "stdout",
     "output_type": "stream",
     "text": [
      "[\u001b[1mtardis.simulation.base\u001b[0m][\u001b[1;37mINFO\u001b[0m   ]  \n",
      "\tStarting iteration 5 of 20 (\u001b[1mbase.py\u001b[0m:325)\n"
     ]
    },
    {
     "name": "stdout",
     "output_type": "stream",
     "text": [
      "[\u001b[1mtardis.simulation.base\u001b[0m][\u001b[1;37mINFO\u001b[0m   ]  \n",
      "\tLuminosity emitted   = 8.318e+42 erg / s\n",
      "\tLuminosity absorbed  = 2.681e+42 erg / s\n",
      "\tLuminosity requested = 1.059e+43 erg / s\n",
      " (\u001b[1mbase.py\u001b[0m:453)\n"
     ]
    },
    {
     "name": "stdout",
     "output_type": "stream",
     "text": [
      "[\u001b[1mtardis.simulation.base\u001b[0m][\u001b[1;37mINFO\u001b[0m   ]  \n",
      "\tPlasma stratification: (\u001b[1mbase.py\u001b[0m:430)\n"
     ]
    },
    {
     "data": {
      "text/html": [
       "<style  type=\"text/css\" >\n",
       "</style><table id=\"T_a857e77a_dc65_11eb_af49_000d3afb088e\" ><thead>    <tr>        <th class=\"index_name level0\" >Shell No.</th>        <th class=\"col_heading level0 col0\" >t_rad</th>        <th class=\"col_heading level0 col1\" >next_t_rad</th>        <th class=\"col_heading level0 col2\" >w</th>        <th class=\"col_heading level0 col3\" >next_w</th>    </tr></thead><tbody>\n",
       "                <tr>\n",
       "                        <th id=\"T_a857e77a_dc65_11eb_af49_000d3afb088elevel0_row0\" class=\"row_heading level0 row0\" >0</th>\n",
       "                        <td id=\"T_a857e77a_dc65_11eb_af49_000d3afb088erow0_col0\" class=\"data row0 col0\" >1.16e+04</td>\n",
       "                        <td id=\"T_a857e77a_dc65_11eb_af49_000d3afb088erow0_col1\" class=\"data row0 col1\" >1.06e+04</td>\n",
       "                        <td id=\"T_a857e77a_dc65_11eb_af49_000d3afb088erow0_col2\" class=\"data row0 col2\" >0.498</td>\n",
       "                        <td id=\"T_a857e77a_dc65_11eb_af49_000d3afb088erow0_col3\" class=\"data row0 col3\" >0.444</td>\n",
       "            </tr>\n",
       "            <tr>\n",
       "                        <th id=\"T_a857e77a_dc65_11eb_af49_000d3afb088elevel0_row1\" class=\"row_heading level0 row1\" >5</th>\n",
       "                        <td id=\"T_a857e77a_dc65_11eb_af49_000d3afb088erow1_col0\" class=\"data row1 col0\" >1.17e+04</td>\n",
       "                        <td id=\"T_a857e77a_dc65_11eb_af49_000d3afb088erow1_col1\" class=\"data row1 col1\" >1.09e+04</td>\n",
       "                        <td id=\"T_a857e77a_dc65_11eb_af49_000d3afb088erow1_col2\" class=\"data row1 col2\" >0.201</td>\n",
       "                        <td id=\"T_a857e77a_dc65_11eb_af49_000d3afb088erow1_col3\" class=\"data row1 col3\" >0.162</td>\n",
       "            </tr>\n",
       "            <tr>\n",
       "                        <th id=\"T_a857e77a_dc65_11eb_af49_000d3afb088elevel0_row2\" class=\"row_heading level0 row2\" >10</th>\n",
       "                        <td id=\"T_a857e77a_dc65_11eb_af49_000d3afb088erow2_col0\" class=\"data row2 col0\" >1.14e+04</td>\n",
       "                        <td id=\"T_a857e77a_dc65_11eb_af49_000d3afb088erow2_col1\" class=\"data row2 col1\" >1.07e+04</td>\n",
       "                        <td id=\"T_a857e77a_dc65_11eb_af49_000d3afb088erow2_col2\" class=\"data row2 col2\" >0.127</td>\n",
       "                        <td id=\"T_a857e77a_dc65_11eb_af49_000d3afb088erow2_col3\" class=\"data row2 col3\" >0.101</td>\n",
       "            </tr>\n",
       "            <tr>\n",
       "                        <th id=\"T_a857e77a_dc65_11eb_af49_000d3afb088elevel0_row3\" class=\"row_heading level0 row3\" >15</th>\n",
       "                        <td id=\"T_a857e77a_dc65_11eb_af49_000d3afb088erow3_col0\" class=\"data row3 col0\" >1.1e+04</td>\n",
       "                        <td id=\"T_a857e77a_dc65_11eb_af49_000d3afb088erow3_col1\" class=\"data row3 col1\" >1.03e+04</td>\n",
       "                        <td id=\"T_a857e77a_dc65_11eb_af49_000d3afb088erow3_col2\" class=\"data row3 col2\" >0.0953</td>\n",
       "                        <td id=\"T_a857e77a_dc65_11eb_af49_000d3afb088erow3_col3\" class=\"data row3 col3\" >0.0769</td>\n",
       "            </tr>\n",
       "    </tbody></table>"
      ],
      "text/plain": [
       "<pandas.io.formats.style.Styler at 0x7f7586814490>"
      ]
     },
     "metadata": {},
     "output_type": "display_data"
    },
    {
     "name": "stdout",
     "output_type": "stream",
     "text": [
      "[\u001b[1mtardis.simulation.base\u001b[0m][\u001b[1;37mINFO\u001b[0m   ]  None (\u001b[1mbase.py\u001b[0m:433)\n"
     ]
    },
    {
     "name": "stdout",
     "output_type": "stream",
     "text": [
      "[\u001b[1mtardis.simulation.base\u001b[0m][\u001b[1;37mINFO\u001b[0m   ]  \n",
      "\tCurrent t_inner = 10026.022 K\n",
      "\tExpected t_inner for next iteration = 11314.135 K\n",
      " (\u001b[1mbase.py\u001b[0m:448)\n"
     ]
    },
    {
     "name": "stdout",
     "output_type": "stream",
     "text": [
      "[\u001b[1mtardis.simulation.base\u001b[0m][\u001b[1;37mINFO\u001b[0m   ]  \n",
      "\tStarting iteration 6 of 20 (\u001b[1mbase.py\u001b[0m:325)\n"
     ]
    },
    {
     "name": "stdout",
     "output_type": "stream",
     "text": [
      "[\u001b[1mtardis.simulation.base\u001b[0m][\u001b[1;37mINFO\u001b[0m   ]  \n",
      "\tLuminosity emitted   = 1.343e+43 erg / s\n",
      "\tLuminosity absorbed  = 4.402e+42 erg / s\n",
      "\tLuminosity requested = 1.059e+43 erg / s\n",
      " (\u001b[1mbase.py\u001b[0m:453)\n"
     ]
    },
    {
     "name": "stdout",
     "output_type": "stream",
     "text": [
      "[\u001b[1mtardis.simulation.base\u001b[0m][\u001b[1;37mINFO\u001b[0m   ]  \n",
      "\tPlasma stratification: (\u001b[1mbase.py\u001b[0m:430)\n"
     ]
    },
    {
     "data": {
      "text/html": [
       "<style  type=\"text/css\" >\n",
       "</style><table id=\"T_a8bdb938_dc65_11eb_af49_000d3afb088e\" ><thead>    <tr>        <th class=\"index_name level0\" >Shell No.</th>        <th class=\"col_heading level0 col0\" >t_rad</th>        <th class=\"col_heading level0 col1\" >next_t_rad</th>        <th class=\"col_heading level0 col2\" >w</th>        <th class=\"col_heading level0 col3\" >next_w</th>    </tr></thead><tbody>\n",
       "                <tr>\n",
       "                        <th id=\"T_a8bdb938_dc65_11eb_af49_000d3afb088elevel0_row0\" class=\"row_heading level0 row0\" >0</th>\n",
       "                        <td id=\"T_a8bdb938_dc65_11eb_af49_000d3afb088erow0_col0\" class=\"data row0 col0\" >1.06e+04</td>\n",
       "                        <td id=\"T_a8bdb938_dc65_11eb_af49_000d3afb088erow0_col1\" class=\"data row0 col1\" >1.15e+04</td>\n",
       "                        <td id=\"T_a8bdb938_dc65_11eb_af49_000d3afb088erow0_col2\" class=\"data row0 col2\" >0.444</td>\n",
       "                        <td id=\"T_a8bdb938_dc65_11eb_af49_000d3afb088erow0_col3\" class=\"data row0 col3\" >0.51</td>\n",
       "            </tr>\n",
       "            <tr>\n",
       "                        <th id=\"T_a8bdb938_dc65_11eb_af49_000d3afb088elevel0_row1\" class=\"row_heading level0 row1\" >5</th>\n",
       "                        <td id=\"T_a8bdb938_dc65_11eb_af49_000d3afb088erow1_col0\" class=\"data row1 col0\" >1.09e+04</td>\n",
       "                        <td id=\"T_a8bdb938_dc65_11eb_af49_000d3afb088erow1_col1\" class=\"data row1 col1\" >1.17e+04</td>\n",
       "                        <td id=\"T_a8bdb938_dc65_11eb_af49_000d3afb088erow1_col2\" class=\"data row1 col2\" >0.162</td>\n",
       "                        <td id=\"T_a8bdb938_dc65_11eb_af49_000d3afb088erow1_col3\" class=\"data row1 col3\" >0.201</td>\n",
       "            </tr>\n",
       "            <tr>\n",
       "                        <th id=\"T_a8bdb938_dc65_11eb_af49_000d3afb088elevel0_row2\" class=\"row_heading level0 row2\" >10</th>\n",
       "                        <td id=\"T_a8bdb938_dc65_11eb_af49_000d3afb088erow2_col0\" class=\"data row2 col0\" >1.07e+04</td>\n",
       "                        <td id=\"T_a8bdb938_dc65_11eb_af49_000d3afb088erow2_col1\" class=\"data row2 col1\" >1.14e+04</td>\n",
       "                        <td id=\"T_a8bdb938_dc65_11eb_af49_000d3afb088erow2_col2\" class=\"data row2 col2\" >0.101</td>\n",
       "                        <td id=\"T_a8bdb938_dc65_11eb_af49_000d3afb088erow2_col3\" class=\"data row2 col3\" >0.127</td>\n",
       "            </tr>\n",
       "            <tr>\n",
       "                        <th id=\"T_a8bdb938_dc65_11eb_af49_000d3afb088elevel0_row3\" class=\"row_heading level0 row3\" >15</th>\n",
       "                        <td id=\"T_a8bdb938_dc65_11eb_af49_000d3afb088erow3_col0\" class=\"data row3 col0\" >1.03e+04</td>\n",
       "                        <td id=\"T_a8bdb938_dc65_11eb_af49_000d3afb088erow3_col1\" class=\"data row3 col1\" >1.1e+04</td>\n",
       "                        <td id=\"T_a8bdb938_dc65_11eb_af49_000d3afb088erow3_col2\" class=\"data row3 col2\" >0.0769</td>\n",
       "                        <td id=\"T_a8bdb938_dc65_11eb_af49_000d3afb088erow3_col3\" class=\"data row3 col3\" >0.0955</td>\n",
       "            </tr>\n",
       "    </tbody></table>"
      ],
      "text/plain": [
       "<pandas.io.formats.style.Styler at 0x7f7586100390>"
      ]
     },
     "metadata": {},
     "output_type": "display_data"
    },
    {
     "name": "stdout",
     "output_type": "stream",
     "text": [
      "[\u001b[1mtardis.simulation.base\u001b[0m][\u001b[1;37mINFO\u001b[0m   ]  None (\u001b[1mbase.py\u001b[0m:433)\n"
     ]
    },
    {
     "name": "stdout",
     "output_type": "stream",
     "text": [
      "[\u001b[1mtardis.simulation.base\u001b[0m][\u001b[1;37mINFO\u001b[0m   ]  \n",
      "\tCurrent t_inner = 11314.135 K\n",
      "\tExpected t_inner for next iteration = 10047.862 K\n",
      " (\u001b[1mbase.py\u001b[0m:448)\n"
     ]
    },
    {
     "name": "stdout",
     "output_type": "stream",
     "text": [
      "[\u001b[1mtardis.simulation.base\u001b[0m][\u001b[1;37mINFO\u001b[0m   ]  \n",
      "\tStarting iteration 7 of 20 (\u001b[1mbase.py\u001b[0m:325)\n"
     ]
    },
    {
     "name": "stdout",
     "output_type": "stream",
     "text": [
      "[\u001b[1mtardis.simulation.base\u001b[0m][\u001b[1;37mINFO\u001b[0m   ]  \n",
      "\tLuminosity emitted   = 8.399e+42 erg / s\n",
      "\tLuminosity absorbed  = 2.700e+42 erg / s\n",
      "\tLuminosity requested = 1.059e+43 erg / s\n",
      " (\u001b[1mbase.py\u001b[0m:453)\n"
     ]
    },
    {
     "name": "stdout",
     "output_type": "stream",
     "text": [
      "[\u001b[1mtardis.simulation.base\u001b[0m][\u001b[1;37mINFO\u001b[0m   ]  \n",
      "\tPlasma stratification: (\u001b[1mbase.py\u001b[0m:430)\n"
     ]
    },
    {
     "data": {
      "text/html": [
       "<style  type=\"text/css\" >\n",
       "</style><table id=\"T_a92250be_dc65_11eb_af49_000d3afb088e\" ><thead>    <tr>        <th class=\"index_name level0\" >Shell No.</th>        <th class=\"col_heading level0 col0\" >t_rad</th>        <th class=\"col_heading level0 col1\" >next_t_rad</th>        <th class=\"col_heading level0 col2\" >w</th>        <th class=\"col_heading level0 col3\" >next_w</th>    </tr></thead><tbody>\n",
       "                <tr>\n",
       "                        <th id=\"T_a92250be_dc65_11eb_af49_000d3afb088elevel0_row0\" class=\"row_heading level0 row0\" >0</th>\n",
       "                        <td id=\"T_a92250be_dc65_11eb_af49_000d3afb088erow0_col0\" class=\"data row0 col0\" >1.15e+04</td>\n",
       "                        <td id=\"T_a92250be_dc65_11eb_af49_000d3afb088erow0_col1\" class=\"data row0 col1\" >1.06e+04</td>\n",
       "                        <td id=\"T_a92250be_dc65_11eb_af49_000d3afb088erow0_col2\" class=\"data row0 col2\" >0.51</td>\n",
       "                        <td id=\"T_a92250be_dc65_11eb_af49_000d3afb088erow0_col3\" class=\"data row0 col3\" >0.443</td>\n",
       "            </tr>\n",
       "            <tr>\n",
       "                        <th id=\"T_a92250be_dc65_11eb_af49_000d3afb088elevel0_row1\" class=\"row_heading level0 row1\" >5</th>\n",
       "                        <td id=\"T_a92250be_dc65_11eb_af49_000d3afb088erow1_col0\" class=\"data row1 col0\" >1.17e+04</td>\n",
       "                        <td id=\"T_a92250be_dc65_11eb_af49_000d3afb088erow1_col1\" class=\"data row1 col1\" >1.1e+04</td>\n",
       "                        <td id=\"T_a92250be_dc65_11eb_af49_000d3afb088erow1_col2\" class=\"data row1 col2\" >0.201</td>\n",
       "                        <td id=\"T_a92250be_dc65_11eb_af49_000d3afb088erow1_col3\" class=\"data row1 col3\" >0.158</td>\n",
       "            </tr>\n",
       "            <tr>\n",
       "                        <th id=\"T_a92250be_dc65_11eb_af49_000d3afb088elevel0_row2\" class=\"row_heading level0 row2\" >10</th>\n",
       "                        <td id=\"T_a92250be_dc65_11eb_af49_000d3afb088erow2_col0\" class=\"data row2 col0\" >1.14e+04</td>\n",
       "                        <td id=\"T_a92250be_dc65_11eb_af49_000d3afb088erow2_col1\" class=\"data row2 col1\" >1.07e+04</td>\n",
       "                        <td id=\"T_a92250be_dc65_11eb_af49_000d3afb088erow2_col2\" class=\"data row2 col2\" >0.127</td>\n",
       "                        <td id=\"T_a92250be_dc65_11eb_af49_000d3afb088erow2_col3\" class=\"data row2 col3\" >0.102</td>\n",
       "            </tr>\n",
       "            <tr>\n",
       "                        <th id=\"T_a92250be_dc65_11eb_af49_000d3afb088elevel0_row3\" class=\"row_heading level0 row3\" >15</th>\n",
       "                        <td id=\"T_a92250be_dc65_11eb_af49_000d3afb088erow3_col0\" class=\"data row3 col0\" >1.1e+04</td>\n",
       "                        <td id=\"T_a92250be_dc65_11eb_af49_000d3afb088erow3_col1\" class=\"data row3 col1\" >1.03e+04</td>\n",
       "                        <td id=\"T_a92250be_dc65_11eb_af49_000d3afb088erow3_col2\" class=\"data row3 col2\" >0.0955</td>\n",
       "                        <td id=\"T_a92250be_dc65_11eb_af49_000d3afb088erow3_col3\" class=\"data row3 col3\" >0.0768</td>\n",
       "            </tr>\n",
       "    </tbody></table>"
      ],
      "text/plain": [
       "<pandas.io.formats.style.Styler at 0x7f75862c3850>"
      ]
     },
     "metadata": {},
     "output_type": "display_data"
    },
    {
     "name": "stdout",
     "output_type": "stream",
     "text": [
      "[\u001b[1mtardis.simulation.base\u001b[0m][\u001b[1;37mINFO\u001b[0m   ]  None (\u001b[1mbase.py\u001b[0m:433)\n"
     ]
    },
    {
     "name": "stdout",
     "output_type": "stream",
     "text": [
      "[\u001b[1mtardis.simulation.base\u001b[0m][\u001b[1;37mINFO\u001b[0m   ]  \n",
      "\tCurrent t_inner = 10047.862 K\n",
      "\tExpected t_inner for next iteration = 11284.172 K\n",
      " (\u001b[1mbase.py\u001b[0m:448)\n"
     ]
    },
    {
     "name": "stdout",
     "output_type": "stream",
     "text": [
      "[\u001b[1mtardis.simulation.base\u001b[0m][\u001b[1;37mINFO\u001b[0m   ]  \n",
      "\tStarting iteration 8 of 20 (\u001b[1mbase.py\u001b[0m:325)\n"
     ]
    },
    {
     "name": "stdout",
     "output_type": "stream",
     "text": [
      "[\u001b[1mtardis.simulation.base\u001b[0m][\u001b[1;37mINFO\u001b[0m   ]  \n",
      "\tLuminosity emitted   = 1.334e+43 erg / s\n",
      "\tLuminosity absorbed  = 4.312e+42 erg / s\n",
      "\tLuminosity requested = 1.059e+43 erg / s\n",
      " (\u001b[1mbase.py\u001b[0m:453)\n"
     ]
    },
    {
     "name": "stdout",
     "output_type": "stream",
     "text": [
      "[\u001b[1mtardis.simulation.base\u001b[0m][\u001b[1;37mINFO\u001b[0m   ]  \n",
      "\tPlasma stratification: (\u001b[1mbase.py\u001b[0m:430)\n"
     ]
    },
    {
     "data": {
      "text/html": [
       "<style  type=\"text/css\" >\n",
       "</style><table id=\"T_a97f7406_dc65_11eb_af49_000d3afb088e\" ><thead>    <tr>        <th class=\"index_name level0\" >Shell No.</th>        <th class=\"col_heading level0 col0\" >t_rad</th>        <th class=\"col_heading level0 col1\" >next_t_rad</th>        <th class=\"col_heading level0 col2\" >w</th>        <th class=\"col_heading level0 col3\" >next_w</th>    </tr></thead><tbody>\n",
       "                <tr>\n",
       "                        <th id=\"T_a97f7406_dc65_11eb_af49_000d3afb088elevel0_row0\" class=\"row_heading level0 row0\" >0</th>\n",
       "                        <td id=\"T_a97f7406_dc65_11eb_af49_000d3afb088erow0_col0\" class=\"data row0 col0\" >1.06e+04</td>\n",
       "                        <td id=\"T_a97f7406_dc65_11eb_af49_000d3afb088erow0_col1\" class=\"data row0 col1\" >1.15e+04</td>\n",
       "                        <td id=\"T_a97f7406_dc65_11eb_af49_000d3afb088erow0_col2\" class=\"data row0 col2\" >0.443</td>\n",
       "                        <td id=\"T_a97f7406_dc65_11eb_af49_000d3afb088erow0_col3\" class=\"data row0 col3\" >0.502</td>\n",
       "            </tr>\n",
       "            <tr>\n",
       "                        <th id=\"T_a97f7406_dc65_11eb_af49_000d3afb088elevel0_row1\" class=\"row_heading level0 row1\" >5</th>\n",
       "                        <td id=\"T_a97f7406_dc65_11eb_af49_000d3afb088erow1_col0\" class=\"data row1 col0\" >1.1e+04</td>\n",
       "                        <td id=\"T_a97f7406_dc65_11eb_af49_000d3afb088erow1_col1\" class=\"data row1 col1\" >1.17e+04</td>\n",
       "                        <td id=\"T_a97f7406_dc65_11eb_af49_000d3afb088erow1_col2\" class=\"data row1 col2\" >0.158</td>\n",
       "                        <td id=\"T_a97f7406_dc65_11eb_af49_000d3afb088erow1_col3\" class=\"data row1 col3\" >0.197</td>\n",
       "            </tr>\n",
       "            <tr>\n",
       "                        <th id=\"T_a97f7406_dc65_11eb_af49_000d3afb088elevel0_row2\" class=\"row_heading level0 row2\" >10</th>\n",
       "                        <td id=\"T_a97f7406_dc65_11eb_af49_000d3afb088erow2_col0\" class=\"data row2 col0\" >1.07e+04</td>\n",
       "                        <td id=\"T_a97f7406_dc65_11eb_af49_000d3afb088erow2_col1\" class=\"data row2 col1\" >1.14e+04</td>\n",
       "                        <td id=\"T_a97f7406_dc65_11eb_af49_000d3afb088erow2_col2\" class=\"data row2 col2\" >0.102</td>\n",
       "                        <td id=\"T_a97f7406_dc65_11eb_af49_000d3afb088erow2_col3\" class=\"data row2 col3\" >0.124</td>\n",
       "            </tr>\n",
       "            <tr>\n",
       "                        <th id=\"T_a97f7406_dc65_11eb_af49_000d3afb088elevel0_row3\" class=\"row_heading level0 row3\" >15</th>\n",
       "                        <td id=\"T_a97f7406_dc65_11eb_af49_000d3afb088erow3_col0\" class=\"data row3 col0\" >1.03e+04</td>\n",
       "                        <td id=\"T_a97f7406_dc65_11eb_af49_000d3afb088erow3_col1\" class=\"data row3 col1\" >1.1e+04</td>\n",
       "                        <td id=\"T_a97f7406_dc65_11eb_af49_000d3afb088erow3_col2\" class=\"data row3 col2\" >0.0768</td>\n",
       "                        <td id=\"T_a97f7406_dc65_11eb_af49_000d3afb088erow3_col3\" class=\"data row3 col3\" >0.0941</td>\n",
       "            </tr>\n",
       "    </tbody></table>"
      ],
      "text/plain": [
       "<pandas.io.formats.style.Styler at 0x7f7586bce150>"
      ]
     },
     "metadata": {},
     "output_type": "display_data"
    },
    {
     "name": "stdout",
     "output_type": "stream",
     "text": [
      "[\u001b[1mtardis.simulation.base\u001b[0m][\u001b[1;37mINFO\u001b[0m   ]  None (\u001b[1mbase.py\u001b[0m:433)\n"
     ]
    },
    {
     "name": "stdout",
     "output_type": "stream",
     "text": [
      "[\u001b[1mtardis.simulation.base\u001b[0m][\u001b[1;37mINFO\u001b[0m   ]  \n",
      "\tCurrent t_inner = 11284.172 K\n",
      "\tExpected t_inner for next iteration = 10056.590 K\n",
      " (\u001b[1mbase.py\u001b[0m:448)\n"
     ]
    },
    {
     "name": "stdout",
     "output_type": "stream",
     "text": [
      "[\u001b[1mtardis.simulation.base\u001b[0m][\u001b[1;37mINFO\u001b[0m   ]  \n",
      "\tStarting iteration 9 of 20 (\u001b[1mbase.py\u001b[0m:325)\n"
     ]
    },
    {
     "name": "stdout",
     "output_type": "stream",
     "text": [
      "[\u001b[1mtardis.simulation.base\u001b[0m][\u001b[1;37mINFO\u001b[0m   ]  \n",
      "\tLuminosity emitted   = 8.442e+42 erg / s\n",
      "\tLuminosity absorbed  = 2.693e+42 erg / s\n",
      "\tLuminosity requested = 1.059e+43 erg / s\n",
      " (\u001b[1mbase.py\u001b[0m:453)\n"
     ]
    },
    {
     "name": "stdout",
     "output_type": "stream",
     "text": [
      "[\u001b[1mtardis.simulation.base\u001b[0m][\u001b[1;37mINFO\u001b[0m   ]  \n",
      "\tPlasma stratification: (\u001b[1mbase.py\u001b[0m:430)\n"
     ]
    },
    {
     "data": {
      "text/html": [
       "<style  type=\"text/css\" >\n",
       "</style><table id=\"T_a9df2cd4_dc65_11eb_af49_000d3afb088e\" ><thead>    <tr>        <th class=\"index_name level0\" >Shell No.</th>        <th class=\"col_heading level0 col0\" >t_rad</th>        <th class=\"col_heading level0 col1\" >next_t_rad</th>        <th class=\"col_heading level0 col2\" >w</th>        <th class=\"col_heading level0 col3\" >next_w</th>    </tr></thead><tbody>\n",
       "                <tr>\n",
       "                        <th id=\"T_a9df2cd4_dc65_11eb_af49_000d3afb088elevel0_row0\" class=\"row_heading level0 row0\" >0</th>\n",
       "                        <td id=\"T_a9df2cd4_dc65_11eb_af49_000d3afb088erow0_col0\" class=\"data row0 col0\" >1.15e+04</td>\n",
       "                        <td id=\"T_a9df2cd4_dc65_11eb_af49_000d3afb088erow0_col1\" class=\"data row0 col1\" >1.06e+04</td>\n",
       "                        <td id=\"T_a9df2cd4_dc65_11eb_af49_000d3afb088erow0_col2\" class=\"data row0 col2\" >0.502</td>\n",
       "                        <td id=\"T_a9df2cd4_dc65_11eb_af49_000d3afb088erow0_col3\" class=\"data row0 col3\" >0.443</td>\n",
       "            </tr>\n",
       "            <tr>\n",
       "                        <th id=\"T_a9df2cd4_dc65_11eb_af49_000d3afb088elevel0_row1\" class=\"row_heading level0 row1\" >5</th>\n",
       "                        <td id=\"T_a9df2cd4_dc65_11eb_af49_000d3afb088erow1_col0\" class=\"data row1 col0\" >1.17e+04</td>\n",
       "                        <td id=\"T_a9df2cd4_dc65_11eb_af49_000d3afb088erow1_col1\" class=\"data row1 col1\" >1.1e+04</td>\n",
       "                        <td id=\"T_a9df2cd4_dc65_11eb_af49_000d3afb088erow1_col2\" class=\"data row1 col2\" >0.197</td>\n",
       "                        <td id=\"T_a9df2cd4_dc65_11eb_af49_000d3afb088erow1_col3\" class=\"data row1 col3\" >0.161</td>\n",
       "            </tr>\n",
       "            <tr>\n",
       "                        <th id=\"T_a9df2cd4_dc65_11eb_af49_000d3afb088elevel0_row2\" class=\"row_heading level0 row2\" >10</th>\n",
       "                        <td id=\"T_a9df2cd4_dc65_11eb_af49_000d3afb088erow2_col0\" class=\"data row2 col0\" >1.14e+04</td>\n",
       "                        <td id=\"T_a9df2cd4_dc65_11eb_af49_000d3afb088erow2_col1\" class=\"data row2 col1\" >1.07e+04</td>\n",
       "                        <td id=\"T_a9df2cd4_dc65_11eb_af49_000d3afb088erow2_col2\" class=\"data row2 col2\" >0.124</td>\n",
       "                        <td id=\"T_a9df2cd4_dc65_11eb_af49_000d3afb088erow2_col3\" class=\"data row2 col3\" >0.102</td>\n",
       "            </tr>\n",
       "            <tr>\n",
       "                        <th id=\"T_a9df2cd4_dc65_11eb_af49_000d3afb088elevel0_row3\" class=\"row_heading level0 row3\" >15</th>\n",
       "                        <td id=\"T_a9df2cd4_dc65_11eb_af49_000d3afb088erow3_col0\" class=\"data row3 col0\" >1.1e+04</td>\n",
       "                        <td id=\"T_a9df2cd4_dc65_11eb_af49_000d3afb088erow3_col1\" class=\"data row3 col1\" >1.04e+04</td>\n",
       "                        <td id=\"T_a9df2cd4_dc65_11eb_af49_000d3afb088erow3_col2\" class=\"data row3 col2\" >0.0941</td>\n",
       "                        <td id=\"T_a9df2cd4_dc65_11eb_af49_000d3afb088erow3_col3\" class=\"data row3 col3\" >0.0753</td>\n",
       "            </tr>\n",
       "    </tbody></table>"
      ],
      "text/plain": [
       "<pandas.io.formats.style.Styler at 0x7f7586814490>"
      ]
     },
     "metadata": {},
     "output_type": "display_data"
    },
    {
     "name": "stdout",
     "output_type": "stream",
     "text": [
      "[\u001b[1mtardis.simulation.base\u001b[0m][\u001b[1;37mINFO\u001b[0m   ]  None (\u001b[1mbase.py\u001b[0m:433)\n"
     ]
    },
    {
     "name": "stdout",
     "output_type": "stream",
     "text": [
      "[\u001b[1mtardis.simulation.base\u001b[0m][\u001b[1;37mINFO\u001b[0m   ]  \n",
      "\tCurrent t_inner = 10056.590 K\n",
      "\tExpected t_inner for next iteration = 11264.873 K\n",
      " (\u001b[1mbase.py\u001b[0m:448)\n"
     ]
    },
    {
     "name": "stdout",
     "output_type": "stream",
     "text": [
      "[\u001b[1mtardis.simulation.base\u001b[0m][\u001b[1;37mINFO\u001b[0m   ]  \n",
      "\tStarting iteration 10 of 20 (\u001b[1mbase.py\u001b[0m:325)\n"
     ]
    },
    {
     "name": "stdout",
     "output_type": "stream",
     "text": [
      "[\u001b[1mtardis.simulation.base\u001b[0m][\u001b[1;37mINFO\u001b[0m   ]  \n",
      "\tLuminosity emitted   = 1.327e+43 erg / s\n",
      "\tLuminosity absorbed  = 4.253e+42 erg / s\n",
      "\tLuminosity requested = 1.059e+43 erg / s\n",
      " (\u001b[1mbase.py\u001b[0m:453)\n"
     ]
    },
    {
     "name": "stdout",
     "output_type": "stream",
     "text": [
      "[\u001b[1mtardis.simulation.base\u001b[0m][\u001b[1;37mINFO\u001b[0m   ]  \n",
      "\tPlasma stratification: (\u001b[1mbase.py\u001b[0m:430)\n"
     ]
    },
    {
     "data": {
      "text/html": [
       "<style  type=\"text/css\" >\n",
       "</style><table id=\"T_aa402ca0_dc65_11eb_af49_000d3afb088e\" ><thead>    <tr>        <th class=\"index_name level0\" >Shell No.</th>        <th class=\"col_heading level0 col0\" >t_rad</th>        <th class=\"col_heading level0 col1\" >next_t_rad</th>        <th class=\"col_heading level0 col2\" >w</th>        <th class=\"col_heading level0 col3\" >next_w</th>    </tr></thead><tbody>\n",
       "                <tr>\n",
       "                        <th id=\"T_aa402ca0_dc65_11eb_af49_000d3afb088elevel0_row0\" class=\"row_heading level0 row0\" >0</th>\n",
       "                        <td id=\"T_aa402ca0_dc65_11eb_af49_000d3afb088erow0_col0\" class=\"data row0 col0\" >1.06e+04</td>\n",
       "                        <td id=\"T_aa402ca0_dc65_11eb_af49_000d3afb088erow0_col1\" class=\"data row0 col1\" >1.15e+04</td>\n",
       "                        <td id=\"T_aa402ca0_dc65_11eb_af49_000d3afb088erow0_col2\" class=\"data row0 col2\" >0.443</td>\n",
       "                        <td id=\"T_aa402ca0_dc65_11eb_af49_000d3afb088erow0_col3\" class=\"data row0 col3\" >0.505</td>\n",
       "            </tr>\n",
       "            <tr>\n",
       "                        <th id=\"T_aa402ca0_dc65_11eb_af49_000d3afb088elevel0_row1\" class=\"row_heading level0 row1\" >5</th>\n",
       "                        <td id=\"T_aa402ca0_dc65_11eb_af49_000d3afb088erow1_col0\" class=\"data row1 col0\" >1.1e+04</td>\n",
       "                        <td id=\"T_aa402ca0_dc65_11eb_af49_000d3afb088erow1_col1\" class=\"data row1 col1\" >1.17e+04</td>\n",
       "                        <td id=\"T_aa402ca0_dc65_11eb_af49_000d3afb088erow1_col2\" class=\"data row1 col2\" >0.161</td>\n",
       "                        <td id=\"T_aa402ca0_dc65_11eb_af49_000d3afb088erow1_col3\" class=\"data row1 col3\" >0.197</td>\n",
       "            </tr>\n",
       "            <tr>\n",
       "                        <th id=\"T_aa402ca0_dc65_11eb_af49_000d3afb088elevel0_row2\" class=\"row_heading level0 row2\" >10</th>\n",
       "                        <td id=\"T_aa402ca0_dc65_11eb_af49_000d3afb088erow2_col0\" class=\"data row2 col0\" >1.07e+04</td>\n",
       "                        <td id=\"T_aa402ca0_dc65_11eb_af49_000d3afb088erow2_col1\" class=\"data row2 col1\" >1.15e+04</td>\n",
       "                        <td id=\"T_aa402ca0_dc65_11eb_af49_000d3afb088erow2_col2\" class=\"data row2 col2\" >0.102</td>\n",
       "                        <td id=\"T_aa402ca0_dc65_11eb_af49_000d3afb088erow2_col3\" class=\"data row2 col3\" >0.122</td>\n",
       "            </tr>\n",
       "            <tr>\n",
       "                        <th id=\"T_aa402ca0_dc65_11eb_af49_000d3afb088elevel0_row3\" class=\"row_heading level0 row3\" >15</th>\n",
       "                        <td id=\"T_aa402ca0_dc65_11eb_af49_000d3afb088erow3_col0\" class=\"data row3 col0\" >1.04e+04</td>\n",
       "                        <td id=\"T_aa402ca0_dc65_11eb_af49_000d3afb088erow3_col1\" class=\"data row3 col1\" >1.11e+04</td>\n",
       "                        <td id=\"T_aa402ca0_dc65_11eb_af49_000d3afb088erow3_col2\" class=\"data row3 col2\" >0.0753</td>\n",
       "                        <td id=\"T_aa402ca0_dc65_11eb_af49_000d3afb088erow3_col3\" class=\"data row3 col3\" >0.0933</td>\n",
       "            </tr>\n",
       "    </tbody></table>"
      ],
      "text/plain": [
       "<pandas.io.formats.style.Styler at 0x7f7586852e90>"
      ]
     },
     "metadata": {},
     "output_type": "display_data"
    },
    {
     "name": "stdout",
     "output_type": "stream",
     "text": [
      "[\u001b[1mtardis.simulation.base\u001b[0m][\u001b[1;37mINFO\u001b[0m   ]  None (\u001b[1mbase.py\u001b[0m:433)\n"
     ]
    },
    {
     "name": "stdout",
     "output_type": "stream",
     "text": [
      "[\u001b[1mtardis.simulation.base\u001b[0m][\u001b[1;37mINFO\u001b[0m   ]  \n",
      "\tCurrent t_inner = 11264.873 K\n",
      "\tExpected t_inner for next iteration = 10062.930 K\n",
      " (\u001b[1mbase.py\u001b[0m:448)\n"
     ]
    },
    {
     "name": "stdout",
     "output_type": "stream",
     "text": [
      "[\u001b[1mtardis.simulation.base\u001b[0m][\u001b[1;37mINFO\u001b[0m   ]  \n",
      "\tStarting iteration 11 of 20 (\u001b[1mbase.py\u001b[0m:325)\n"
     ]
    },
    {
     "name": "stdout",
     "output_type": "stream",
     "text": [
      "[\u001b[1mtardis.simulation.base\u001b[0m][\u001b[1;37mINFO\u001b[0m   ]  \n",
      "\tLuminosity emitted   = 8.521e+42 erg / s\n",
      "\tLuminosity absorbed  = 2.645e+42 erg / s\n",
      "\tLuminosity requested = 1.059e+43 erg / s\n",
      " (\u001b[1mbase.py\u001b[0m:453)\n"
     ]
    },
    {
     "name": "stdout",
     "output_type": "stream",
     "text": [
      "[\u001b[1mtardis.simulation.base\u001b[0m][\u001b[1;37mINFO\u001b[0m   ]  \n",
      "\tPlasma stratification: (\u001b[1mbase.py\u001b[0m:430)\n"
     ]
    },
    {
     "data": {
      "text/html": [
       "<style  type=\"text/css\" >\n",
       "</style><table id=\"T_aaa3c918_dc65_11eb_af49_000d3afb088e\" ><thead>    <tr>        <th class=\"index_name level0\" >Shell No.</th>        <th class=\"col_heading level0 col0\" >t_rad</th>        <th class=\"col_heading level0 col1\" >next_t_rad</th>        <th class=\"col_heading level0 col2\" >w</th>        <th class=\"col_heading level0 col3\" >next_w</th>    </tr></thead><tbody>\n",
       "                <tr>\n",
       "                        <th id=\"T_aaa3c918_dc65_11eb_af49_000d3afb088elevel0_row0\" class=\"row_heading level0 row0\" >0</th>\n",
       "                        <td id=\"T_aaa3c918_dc65_11eb_af49_000d3afb088erow0_col0\" class=\"data row0 col0\" >1.15e+04</td>\n",
       "                        <td id=\"T_aaa3c918_dc65_11eb_af49_000d3afb088erow0_col1\" class=\"data row0 col1\" >1.06e+04</td>\n",
       "                        <td id=\"T_aaa3c918_dc65_11eb_af49_000d3afb088erow0_col2\" class=\"data row0 col2\" >0.505</td>\n",
       "                        <td id=\"T_aaa3c918_dc65_11eb_af49_000d3afb088erow0_col3\" class=\"data row0 col3\" >0.444</td>\n",
       "            </tr>\n",
       "            <tr>\n",
       "                        <th id=\"T_aaa3c918_dc65_11eb_af49_000d3afb088elevel0_row1\" class=\"row_heading level0 row1\" >5</th>\n",
       "                        <td id=\"T_aaa3c918_dc65_11eb_af49_000d3afb088erow1_col0\" class=\"data row1 col0\" >1.17e+04</td>\n",
       "                        <td id=\"T_aaa3c918_dc65_11eb_af49_000d3afb088erow1_col1\" class=\"data row1 col1\" >1.1e+04</td>\n",
       "                        <td id=\"T_aaa3c918_dc65_11eb_af49_000d3afb088erow1_col2\" class=\"data row1 col2\" >0.197</td>\n",
       "                        <td id=\"T_aaa3c918_dc65_11eb_af49_000d3afb088erow1_col3\" class=\"data row1 col3\" >0.162</td>\n",
       "            </tr>\n",
       "            <tr>\n",
       "                        <th id=\"T_aaa3c918_dc65_11eb_af49_000d3afb088elevel0_row2\" class=\"row_heading level0 row2\" >10</th>\n",
       "                        <td id=\"T_aaa3c918_dc65_11eb_af49_000d3afb088erow2_col0\" class=\"data row2 col0\" >1.15e+04</td>\n",
       "                        <td id=\"T_aaa3c918_dc65_11eb_af49_000d3afb088erow2_col1\" class=\"data row2 col1\" >1.09e+04</td>\n",
       "                        <td id=\"T_aaa3c918_dc65_11eb_af49_000d3afb088erow2_col2\" class=\"data row2 col2\" >0.122</td>\n",
       "                        <td id=\"T_aaa3c918_dc65_11eb_af49_000d3afb088erow2_col3\" class=\"data row2 col3\" >0.0958</td>\n",
       "            </tr>\n",
       "            <tr>\n",
       "                        <th id=\"T_aaa3c918_dc65_11eb_af49_000d3afb088elevel0_row3\" class=\"row_heading level0 row3\" >15</th>\n",
       "                        <td id=\"T_aaa3c918_dc65_11eb_af49_000d3afb088erow3_col0\" class=\"data row3 col0\" >1.11e+04</td>\n",
       "                        <td id=\"T_aaa3c918_dc65_11eb_af49_000d3afb088erow3_col1\" class=\"data row3 col1\" >1.05e+04</td>\n",
       "                        <td id=\"T_aaa3c918_dc65_11eb_af49_000d3afb088erow3_col2\" class=\"data row3 col2\" >0.0933</td>\n",
       "                        <td id=\"T_aaa3c918_dc65_11eb_af49_000d3afb088erow3_col3\" class=\"data row3 col3\" >0.0744</td>\n",
       "            </tr>\n",
       "    </tbody></table>"
      ],
      "text/plain": [
       "<pandas.io.formats.style.Styler at 0x7f7586d89bd0>"
      ]
     },
     "metadata": {},
     "output_type": "display_data"
    },
    {
     "name": "stdout",
     "output_type": "stream",
     "text": [
      "[\u001b[1mtardis.simulation.base\u001b[0m][\u001b[1;37mINFO\u001b[0m   ]  None (\u001b[1mbase.py\u001b[0m:433)\n"
     ]
    },
    {
     "name": "stdout",
     "output_type": "stream",
     "text": [
      "[\u001b[1mtardis.simulation.base\u001b[0m][\u001b[1;37mINFO\u001b[0m   ]  \n",
      "\tCurrent t_inner = 10062.930 K\n",
      "\tExpected t_inner for next iteration = 11220.057 K\n",
      " (\u001b[1mbase.py\u001b[0m:448)\n"
     ]
    },
    {
     "name": "stdout",
     "output_type": "stream",
     "text": [
      "[\u001b[1mtardis.simulation.base\u001b[0m][\u001b[1;37mINFO\u001b[0m   ]  \n",
      "\tStarting iteration 12 of 20 (\u001b[1mbase.py\u001b[0m:325)\n"
     ]
    },
    {
     "name": "stdout",
     "output_type": "stream",
     "text": [
      "[\u001b[1mtardis.simulation.base\u001b[0m][\u001b[1;37mINFO\u001b[0m   ]  \n",
      "\tLuminosity emitted   = 1.302e+43 erg / s\n",
      "\tLuminosity absorbed  = 4.230e+42 erg / s\n",
      "\tLuminosity requested = 1.059e+43 erg / s\n",
      " (\u001b[1mbase.py\u001b[0m:453)\n"
     ]
    },
    {
     "name": "stdout",
     "output_type": "stream",
     "text": [
      "[\u001b[1mtardis.simulation.base\u001b[0m][\u001b[1;37mINFO\u001b[0m   ]  \n",
      "\tPlasma stratification: (\u001b[1mbase.py\u001b[0m:430)\n"
     ]
    },
    {
     "data": {
      "text/html": [
       "<style  type=\"text/css\" >\n",
       "</style><table id=\"T_ab02b838_dc65_11eb_af49_000d3afb088e\" ><thead>    <tr>        <th class=\"index_name level0\" >Shell No.</th>        <th class=\"col_heading level0 col0\" >t_rad</th>        <th class=\"col_heading level0 col1\" >next_t_rad</th>        <th class=\"col_heading level0 col2\" >w</th>        <th class=\"col_heading level0 col3\" >next_w</th>    </tr></thead><tbody>\n",
       "                <tr>\n",
       "                        <th id=\"T_ab02b838_dc65_11eb_af49_000d3afb088elevel0_row0\" class=\"row_heading level0 row0\" >0</th>\n",
       "                        <td id=\"T_ab02b838_dc65_11eb_af49_000d3afb088erow0_col0\" class=\"data row0 col0\" >1.06e+04</td>\n",
       "                        <td id=\"T_ab02b838_dc65_11eb_af49_000d3afb088erow0_col1\" class=\"data row0 col1\" >1.16e+04</td>\n",
       "                        <td id=\"T_ab02b838_dc65_11eb_af49_000d3afb088erow0_col2\" class=\"data row0 col2\" >0.444</td>\n",
       "                        <td id=\"T_ab02b838_dc65_11eb_af49_000d3afb088erow0_col3\" class=\"data row0 col3\" >0.486</td>\n",
       "            </tr>\n",
       "            <tr>\n",
       "                        <th id=\"T_ab02b838_dc65_11eb_af49_000d3afb088elevel0_row1\" class=\"row_heading level0 row1\" >5</th>\n",
       "                        <td id=\"T_ab02b838_dc65_11eb_af49_000d3afb088erow1_col0\" class=\"data row1 col0\" >1.1e+04</td>\n",
       "                        <td id=\"T_ab02b838_dc65_11eb_af49_000d3afb088erow1_col1\" class=\"data row1 col1\" >1.18e+04</td>\n",
       "                        <td id=\"T_ab02b838_dc65_11eb_af49_000d3afb088erow1_col2\" class=\"data row1 col2\" >0.162</td>\n",
       "                        <td id=\"T_ab02b838_dc65_11eb_af49_000d3afb088erow1_col3\" class=\"data row1 col3\" >0.19</td>\n",
       "            </tr>\n",
       "            <tr>\n",
       "                        <th id=\"T_ab02b838_dc65_11eb_af49_000d3afb088elevel0_row2\" class=\"row_heading level0 row2\" >10</th>\n",
       "                        <td id=\"T_ab02b838_dc65_11eb_af49_000d3afb088erow2_col0\" class=\"data row2 col0\" >1.09e+04</td>\n",
       "                        <td id=\"T_ab02b838_dc65_11eb_af49_000d3afb088erow2_col1\" class=\"data row2 col1\" >1.14e+04</td>\n",
       "                        <td id=\"T_ab02b838_dc65_11eb_af49_000d3afb088erow2_col2\" class=\"data row2 col2\" >0.0958</td>\n",
       "                        <td id=\"T_ab02b838_dc65_11eb_af49_000d3afb088erow2_col3\" class=\"data row2 col3\" >0.121</td>\n",
       "            </tr>\n",
       "            <tr>\n",
       "                        <th id=\"T_ab02b838_dc65_11eb_af49_000d3afb088elevel0_row3\" class=\"row_heading level0 row3\" >15</th>\n",
       "                        <td id=\"T_ab02b838_dc65_11eb_af49_000d3afb088erow3_col0\" class=\"data row3 col0\" >1.05e+04</td>\n",
       "                        <td id=\"T_ab02b838_dc65_11eb_af49_000d3afb088erow3_col1\" class=\"data row3 col1\" >1.11e+04</td>\n",
       "                        <td id=\"T_ab02b838_dc65_11eb_af49_000d3afb088erow3_col2\" class=\"data row3 col2\" >0.0744</td>\n",
       "                        <td id=\"T_ab02b838_dc65_11eb_af49_000d3afb088erow3_col3\" class=\"data row3 col3\" >0.089</td>\n",
       "            </tr>\n",
       "    </tbody></table>"
      ],
      "text/plain": [
       "<pandas.io.formats.style.Styler at 0x7f7586d89050>"
      ]
     },
     "metadata": {},
     "output_type": "display_data"
    },
    {
     "name": "stdout",
     "output_type": "stream",
     "text": [
      "[\u001b[1mtardis.simulation.base\u001b[0m][\u001b[1;37mINFO\u001b[0m   ]  None (\u001b[1mbase.py\u001b[0m:433)\n"
     ]
    },
    {
     "name": "stdout",
     "output_type": "stream",
     "text": [
      "[\u001b[1mtardis.simulation.base\u001b[0m][\u001b[1;37mINFO\u001b[0m   ]  \n",
      "\tCurrent t_inner = 11220.057 K\n",
      "\tExpected t_inner for next iteration = 10121.498 K\n",
      " (\u001b[1mbase.py\u001b[0m:448)\n"
     ]
    },
    {
     "name": "stdout",
     "output_type": "stream",
     "text": [
      "[\u001b[1mtardis.simulation.base\u001b[0m][\u001b[1;37mINFO\u001b[0m   ]  \n",
      "\tStarting iteration 13 of 20 (\u001b[1mbase.py\u001b[0m:325)\n"
     ]
    },
    {
     "name": "stdout",
     "output_type": "stream",
     "text": [
      "[\u001b[1mtardis.simulation.base\u001b[0m][\u001b[1;37mINFO\u001b[0m   ]  \n",
      "\tLuminosity emitted   = 8.695e+42 erg / s\n",
      "\tLuminosity absorbed  = 2.731e+42 erg / s\n",
      "\tLuminosity requested = 1.059e+43 erg / s\n",
      " (\u001b[1mbase.py\u001b[0m:453)\n"
     ]
    },
    {
     "name": "stdout",
     "output_type": "stream",
     "text": [
      "[\u001b[1mtardis.simulation.base\u001b[0m][\u001b[1;37mINFO\u001b[0m   ]  \n",
      "\tPlasma stratification: (\u001b[1mbase.py\u001b[0m:430)\n"
     ]
    },
    {
     "data": {
      "text/html": [
       "<style  type=\"text/css\" >\n",
       "</style><table id=\"T_ab6031ca_dc65_11eb_af49_000d3afb088e\" ><thead>    <tr>        <th class=\"index_name level0\" >Shell No.</th>        <th class=\"col_heading level0 col0\" >t_rad</th>        <th class=\"col_heading level0 col1\" >next_t_rad</th>        <th class=\"col_heading level0 col2\" >w</th>        <th class=\"col_heading level0 col3\" >next_w</th>    </tr></thead><tbody>\n",
       "                <tr>\n",
       "                        <th id=\"T_ab6031ca_dc65_11eb_af49_000d3afb088elevel0_row0\" class=\"row_heading level0 row0\" >0</th>\n",
       "                        <td id=\"T_ab6031ca_dc65_11eb_af49_000d3afb088erow0_col0\" class=\"data row0 col0\" >1.16e+04</td>\n",
       "                        <td id=\"T_ab6031ca_dc65_11eb_af49_000d3afb088erow0_col1\" class=\"data row0 col1\" >1.07e+04</td>\n",
       "                        <td id=\"T_ab6031ca_dc65_11eb_af49_000d3afb088erow0_col2\" class=\"data row0 col2\" >0.486</td>\n",
       "                        <td id=\"T_ab6031ca_dc65_11eb_af49_000d3afb088erow0_col3\" class=\"data row0 col3\" >0.438</td>\n",
       "            </tr>\n",
       "            <tr>\n",
       "                        <th id=\"T_ab6031ca_dc65_11eb_af49_000d3afb088elevel0_row1\" class=\"row_heading level0 row1\" >5</th>\n",
       "                        <td id=\"T_ab6031ca_dc65_11eb_af49_000d3afb088erow1_col0\" class=\"data row1 col0\" >1.18e+04</td>\n",
       "                        <td id=\"T_ab6031ca_dc65_11eb_af49_000d3afb088erow1_col1\" class=\"data row1 col1\" >1.1e+04</td>\n",
       "                        <td id=\"T_ab6031ca_dc65_11eb_af49_000d3afb088erow1_col2\" class=\"data row1 col2\" >0.19</td>\n",
       "                        <td id=\"T_ab6031ca_dc65_11eb_af49_000d3afb088erow1_col3\" class=\"data row1 col3\" >0.162</td>\n",
       "            </tr>\n",
       "            <tr>\n",
       "                        <th id=\"T_ab6031ca_dc65_11eb_af49_000d3afb088elevel0_row2\" class=\"row_heading level0 row2\" >10</th>\n",
       "                        <td id=\"T_ab6031ca_dc65_11eb_af49_000d3afb088erow2_col0\" class=\"data row2 col0\" >1.14e+04</td>\n",
       "                        <td id=\"T_ab6031ca_dc65_11eb_af49_000d3afb088erow2_col1\" class=\"data row2 col1\" >1.08e+04</td>\n",
       "                        <td id=\"T_ab6031ca_dc65_11eb_af49_000d3afb088erow2_col2\" class=\"data row2 col2\" >0.121</td>\n",
       "                        <td id=\"T_ab6031ca_dc65_11eb_af49_000d3afb088erow2_col3\" class=\"data row2 col3\" >0.101</td>\n",
       "            </tr>\n",
       "            <tr>\n",
       "                        <th id=\"T_ab6031ca_dc65_11eb_af49_000d3afb088elevel0_row3\" class=\"row_heading level0 row3\" >15</th>\n",
       "                        <td id=\"T_ab6031ca_dc65_11eb_af49_000d3afb088erow3_col0\" class=\"data row3 col0\" >1.11e+04</td>\n",
       "                        <td id=\"T_ab6031ca_dc65_11eb_af49_000d3afb088erow3_col1\" class=\"data row3 col1\" >1.04e+04</td>\n",
       "                        <td id=\"T_ab6031ca_dc65_11eb_af49_000d3afb088erow3_col2\" class=\"data row3 col2\" >0.089</td>\n",
       "                        <td id=\"T_ab6031ca_dc65_11eb_af49_000d3afb088erow3_col3\" class=\"data row3 col3\" >0.0767</td>\n",
       "            </tr>\n",
       "    </tbody></table>"
      ],
      "text/plain": [
       "<pandas.io.formats.style.Styler at 0x7f7586d894d0>"
      ]
     },
     "metadata": {},
     "output_type": "display_data"
    },
    {
     "name": "stdout",
     "output_type": "stream",
     "text": [
      "[\u001b[1mtardis.simulation.base\u001b[0m][\u001b[1;37mINFO\u001b[0m   ]  None (\u001b[1mbase.py\u001b[0m:433)\n"
     ]
    },
    {
     "name": "stdout",
     "output_type": "stream",
     "text": [
      "[\u001b[1mtardis.simulation.base\u001b[0m][\u001b[1;37mINFO\u001b[0m   ]  \n",
      "\tCurrent t_inner = 10121.498 K\n",
      "\tExpected t_inner for next iteration = 11171.296 K\n",
      " (\u001b[1mbase.py\u001b[0m:448)\n"
     ]
    },
    {
     "name": "stdout",
     "output_type": "stream",
     "text": [
      "[\u001b[1mtardis.simulation.base\u001b[0m][\u001b[1;37mINFO\u001b[0m   ]  \n",
      "\tStarting iteration 14 of 20 (\u001b[1mbase.py\u001b[0m:325)\n"
     ]
    },
    {
     "name": "stdout",
     "output_type": "stream",
     "text": [
      "[\u001b[1mtardis.simulation.base\u001b[0m][\u001b[1;37mINFO\u001b[0m   ]  \n",
      "\tLuminosity emitted   = 1.284e+43 erg / s\n",
      "\tLuminosity absorbed  = 4.115e+42 erg / s\n",
      "\tLuminosity requested = 1.059e+43 erg / s\n",
      " (\u001b[1mbase.py\u001b[0m:453)\n"
     ]
    },
    {
     "name": "stdout",
     "output_type": "stream",
     "text": [
      "[\u001b[1mtardis.simulation.base\u001b[0m][\u001b[1;37mINFO\u001b[0m   ]  \n",
      "\tPlasma stratification: (\u001b[1mbase.py\u001b[0m:430)\n"
     ]
    },
    {
     "data": {
      "text/html": [
       "<style  type=\"text/css\" >\n",
       "</style><table id=\"T_abbf20cc_dc65_11eb_af49_000d3afb088e\" ><thead>    <tr>        <th class=\"index_name level0\" >Shell No.</th>        <th class=\"col_heading level0 col0\" >t_rad</th>        <th class=\"col_heading level0 col1\" >next_t_rad</th>        <th class=\"col_heading level0 col2\" >w</th>        <th class=\"col_heading level0 col3\" >next_w</th>    </tr></thead><tbody>\n",
       "                <tr>\n",
       "                        <th id=\"T_abbf20cc_dc65_11eb_af49_000d3afb088elevel0_row0\" class=\"row_heading level0 row0\" >0</th>\n",
       "                        <td id=\"T_abbf20cc_dc65_11eb_af49_000d3afb088erow0_col0\" class=\"data row0 col0\" >1.07e+04</td>\n",
       "                        <td id=\"T_abbf20cc_dc65_11eb_af49_000d3afb088erow0_col1\" class=\"data row0 col1\" >1.15e+04</td>\n",
       "                        <td id=\"T_abbf20cc_dc65_11eb_af49_000d3afb088erow0_col2\" class=\"data row0 col2\" >0.438</td>\n",
       "                        <td id=\"T_abbf20cc_dc65_11eb_af49_000d3afb088erow0_col3\" class=\"data row0 col3\" >0.495</td>\n",
       "            </tr>\n",
       "            <tr>\n",
       "                        <th id=\"T_abbf20cc_dc65_11eb_af49_000d3afb088elevel0_row1\" class=\"row_heading level0 row1\" >5</th>\n",
       "                        <td id=\"T_abbf20cc_dc65_11eb_af49_000d3afb088erow1_col0\" class=\"data row1 col0\" >1.1e+04</td>\n",
       "                        <td id=\"T_abbf20cc_dc65_11eb_af49_000d3afb088erow1_col1\" class=\"data row1 col1\" >1.17e+04</td>\n",
       "                        <td id=\"T_abbf20cc_dc65_11eb_af49_000d3afb088erow1_col2\" class=\"data row1 col2\" >0.162</td>\n",
       "                        <td id=\"T_abbf20cc_dc65_11eb_af49_000d3afb088erow1_col3\" class=\"data row1 col3\" >0.191</td>\n",
       "            </tr>\n",
       "            <tr>\n",
       "                        <th id=\"T_abbf20cc_dc65_11eb_af49_000d3afb088elevel0_row2\" class=\"row_heading level0 row2\" >10</th>\n",
       "                        <td id=\"T_abbf20cc_dc65_11eb_af49_000d3afb088erow2_col0\" class=\"data row2 col0\" >1.08e+04</td>\n",
       "                        <td id=\"T_abbf20cc_dc65_11eb_af49_000d3afb088erow2_col1\" class=\"data row2 col1\" >1.14e+04</td>\n",
       "                        <td id=\"T_abbf20cc_dc65_11eb_af49_000d3afb088erow2_col2\" class=\"data row2 col2\" >0.101</td>\n",
       "                        <td id=\"T_abbf20cc_dc65_11eb_af49_000d3afb088erow2_col3\" class=\"data row2 col3\" >0.12</td>\n",
       "            </tr>\n",
       "            <tr>\n",
       "                        <th id=\"T_abbf20cc_dc65_11eb_af49_000d3afb088elevel0_row3\" class=\"row_heading level0 row3\" >15</th>\n",
       "                        <td id=\"T_abbf20cc_dc65_11eb_af49_000d3afb088erow3_col0\" class=\"data row3 col0\" >1.04e+04</td>\n",
       "                        <td id=\"T_abbf20cc_dc65_11eb_af49_000d3afb088erow3_col1\" class=\"data row3 col1\" >1.1e+04</td>\n",
       "                        <td id=\"T_abbf20cc_dc65_11eb_af49_000d3afb088erow3_col2\" class=\"data row3 col2\" >0.0767</td>\n",
       "                        <td id=\"T_abbf20cc_dc65_11eb_af49_000d3afb088erow3_col3\" class=\"data row3 col3\" >0.0918</td>\n",
       "            </tr>\n",
       "    </tbody></table>"
      ],
      "text/plain": [
       "<pandas.io.formats.style.Styler at 0x7f7586100bd0>"
      ]
     },
     "metadata": {},
     "output_type": "display_data"
    },
    {
     "name": "stdout",
     "output_type": "stream",
     "text": [
      "[\u001b[1mtardis.simulation.base\u001b[0m][\u001b[1;37mINFO\u001b[0m   ]  None (\u001b[1mbase.py\u001b[0m:433)\n"
     ]
    },
    {
     "name": "stdout",
     "output_type": "stream",
     "text": [
      "[\u001b[1mtardis.simulation.base\u001b[0m][\u001b[1;37mINFO\u001b[0m   ]  \n",
      "\tCurrent t_inner = 11171.296 K\n",
      "\tExpected t_inner for next iteration = 10145.811 K\n",
      " (\u001b[1mbase.py\u001b[0m:448)\n"
     ]
    },
    {
     "name": "stdout",
     "output_type": "stream",
     "text": [
      "[\u001b[1mtardis.simulation.base\u001b[0m][\u001b[1;37mINFO\u001b[0m   ]  \n",
      "\tStarting iteration 15 of 20 (\u001b[1mbase.py\u001b[0m:325)\n"
     ]
    },
    {
     "name": "stdout",
     "output_type": "stream",
     "text": [
      "[\u001b[1mtardis.simulation.base\u001b[0m][\u001b[1;37mINFO\u001b[0m   ]  \n",
      "\tLuminosity emitted   = 8.705e+42 erg / s\n",
      "\tLuminosity absorbed  = 2.828e+42 erg / s\n",
      "\tLuminosity requested = 1.059e+43 erg / s\n",
      " (\u001b[1mbase.py\u001b[0m:453)\n"
     ]
    },
    {
     "name": "stdout",
     "output_type": "stream",
     "text": [
      "[\u001b[1mtardis.simulation.base\u001b[0m][\u001b[1;37mINFO\u001b[0m   ]  \n",
      "\tPlasma stratification: (\u001b[1mbase.py\u001b[0m:430)\n"
     ]
    },
    {
     "data": {
      "text/html": [
       "<style  type=\"text/css\" >\n",
       "</style><table id=\"T_ac1ed490_dc65_11eb_af49_000d3afb088e\" ><thead>    <tr>        <th class=\"index_name level0\" >Shell No.</th>        <th class=\"col_heading level0 col0\" >t_rad</th>        <th class=\"col_heading level0 col1\" >next_t_rad</th>        <th class=\"col_heading level0 col2\" >w</th>        <th class=\"col_heading level0 col3\" >next_w</th>    </tr></thead><tbody>\n",
       "                <tr>\n",
       "                        <th id=\"T_ac1ed490_dc65_11eb_af49_000d3afb088elevel0_row0\" class=\"row_heading level0 row0\" >0</th>\n",
       "                        <td id=\"T_ac1ed490_dc65_11eb_af49_000d3afb088erow0_col0\" class=\"data row0 col0\" >1.15e+04</td>\n",
       "                        <td id=\"T_ac1ed490_dc65_11eb_af49_000d3afb088erow0_col1\" class=\"data row0 col1\" >1.07e+04</td>\n",
       "                        <td id=\"T_ac1ed490_dc65_11eb_af49_000d3afb088erow0_col2\" class=\"data row0 col2\" >0.495</td>\n",
       "                        <td id=\"T_ac1ed490_dc65_11eb_af49_000d3afb088erow0_col3\" class=\"data row0 col3\" >0.449</td>\n",
       "            </tr>\n",
       "            <tr>\n",
       "                        <th id=\"T_ac1ed490_dc65_11eb_af49_000d3afb088elevel0_row1\" class=\"row_heading level0 row1\" >5</th>\n",
       "                        <td id=\"T_ac1ed490_dc65_11eb_af49_000d3afb088erow1_col0\" class=\"data row1 col0\" >1.17e+04</td>\n",
       "                        <td id=\"T_ac1ed490_dc65_11eb_af49_000d3afb088erow1_col1\" class=\"data row1 col1\" >1.1e+04</td>\n",
       "                        <td id=\"T_ac1ed490_dc65_11eb_af49_000d3afb088erow1_col2\" class=\"data row1 col2\" >0.191</td>\n",
       "                        <td id=\"T_ac1ed490_dc65_11eb_af49_000d3afb088erow1_col3\" class=\"data row1 col3\" >0.163</td>\n",
       "            </tr>\n",
       "            <tr>\n",
       "                        <th id=\"T_ac1ed490_dc65_11eb_af49_000d3afb088elevel0_row2\" class=\"row_heading level0 row2\" >10</th>\n",
       "                        <td id=\"T_ac1ed490_dc65_11eb_af49_000d3afb088erow2_col0\" class=\"data row2 col0\" >1.14e+04</td>\n",
       "                        <td id=\"T_ac1ed490_dc65_11eb_af49_000d3afb088erow2_col1\" class=\"data row2 col1\" >1.09e+04</td>\n",
       "                        <td id=\"T_ac1ed490_dc65_11eb_af49_000d3afb088erow2_col2\" class=\"data row2 col2\" >0.12</td>\n",
       "                        <td id=\"T_ac1ed490_dc65_11eb_af49_000d3afb088erow2_col3\" class=\"data row2 col3\" >0.0997</td>\n",
       "            </tr>\n",
       "            <tr>\n",
       "                        <th id=\"T_ac1ed490_dc65_11eb_af49_000d3afb088elevel0_row3\" class=\"row_heading level0 row3\" >15</th>\n",
       "                        <td id=\"T_ac1ed490_dc65_11eb_af49_000d3afb088erow3_col0\" class=\"data row3 col0\" >1.1e+04</td>\n",
       "                        <td id=\"T_ac1ed490_dc65_11eb_af49_000d3afb088erow3_col1\" class=\"data row3 col1\" >1.05e+04</td>\n",
       "                        <td id=\"T_ac1ed490_dc65_11eb_af49_000d3afb088erow3_col2\" class=\"data row3 col2\" >0.0918</td>\n",
       "                        <td id=\"T_ac1ed490_dc65_11eb_af49_000d3afb088erow3_col3\" class=\"data row3 col3\" >0.0768</td>\n",
       "            </tr>\n",
       "    </tbody></table>"
      ],
      "text/plain": [
       "<pandas.io.formats.style.Styler at 0x7f7586d778d0>"
      ]
     },
     "metadata": {},
     "output_type": "display_data"
    },
    {
     "name": "stdout",
     "output_type": "stream",
     "text": [
      "[\u001b[1mtardis.simulation.base\u001b[0m][\u001b[1;37mINFO\u001b[0m   ]  None (\u001b[1mbase.py\u001b[0m:433)\n"
     ]
    },
    {
     "name": "stdout",
     "output_type": "stream",
     "text": [
      "[\u001b[1mtardis.simulation.base\u001b[0m][\u001b[1;37mINFO\u001b[0m   ]  \n",
      "\tCurrent t_inner = 10145.811 K\n",
      "\tExpected t_inner for next iteration = 11191.850 K\n",
      " (\u001b[1mbase.py\u001b[0m:448)\n"
     ]
    },
    {
     "name": "stdout",
     "output_type": "stream",
     "text": [
      "[\u001b[1mtardis.simulation.base\u001b[0m][\u001b[1;37mINFO\u001b[0m   ]  \n",
      "\tStarting iteration 16 of 20 (\u001b[1mbase.py\u001b[0m:325)\n"
     ]
    },
    {
     "name": "stdout",
     "output_type": "stream",
     "text": [
      "[\u001b[1mtardis.simulation.base\u001b[0m][\u001b[1;37mINFO\u001b[0m   ]  \n",
      "\tLuminosity emitted   = 1.284e+43 erg / s\n",
      "\tLuminosity absorbed  = 4.234e+42 erg / s\n",
      "\tLuminosity requested = 1.059e+43 erg / s\n",
      " (\u001b[1mbase.py\u001b[0m:453)\n"
     ]
    },
    {
     "name": "stdout",
     "output_type": "stream",
     "text": [
      "[\u001b[1mtardis.simulation.base\u001b[0m][\u001b[1;37mINFO\u001b[0m   ]  \n",
      "\tPlasma stratification: (\u001b[1mbase.py\u001b[0m:430)\n"
     ]
    },
    {
     "data": {
      "text/html": [
       "<style  type=\"text/css\" >\n",
       "</style><table id=\"T_ac8022a4_dc65_11eb_af49_000d3afb088e\" ><thead>    <tr>        <th class=\"index_name level0\" >Shell No.</th>        <th class=\"col_heading level0 col0\" >t_rad</th>        <th class=\"col_heading level0 col1\" >next_t_rad</th>        <th class=\"col_heading level0 col2\" >w</th>        <th class=\"col_heading level0 col3\" >next_w</th>    </tr></thead><tbody>\n",
       "                <tr>\n",
       "                        <th id=\"T_ac8022a4_dc65_11eb_af49_000d3afb088elevel0_row0\" class=\"row_heading level0 row0\" >0</th>\n",
       "                        <td id=\"T_ac8022a4_dc65_11eb_af49_000d3afb088erow0_col0\" class=\"data row0 col0\" >1.07e+04</td>\n",
       "                        <td id=\"T_ac8022a4_dc65_11eb_af49_000d3afb088erow0_col1\" class=\"data row0 col1\" >1.15e+04</td>\n",
       "                        <td id=\"T_ac8022a4_dc65_11eb_af49_000d3afb088erow0_col2\" class=\"data row0 col2\" >0.449</td>\n",
       "                        <td id=\"T_ac8022a4_dc65_11eb_af49_000d3afb088erow0_col3\" class=\"data row0 col3\" >0.495</td>\n",
       "            </tr>\n",
       "            <tr>\n",
       "                        <th id=\"T_ac8022a4_dc65_11eb_af49_000d3afb088elevel0_row1\" class=\"row_heading level0 row1\" >5</th>\n",
       "                        <td id=\"T_ac8022a4_dc65_11eb_af49_000d3afb088erow1_col0\" class=\"data row1 col0\" >1.1e+04</td>\n",
       "                        <td id=\"T_ac8022a4_dc65_11eb_af49_000d3afb088erow1_col1\" class=\"data row1 col1\" >1.18e+04</td>\n",
       "                        <td id=\"T_ac8022a4_dc65_11eb_af49_000d3afb088erow1_col2\" class=\"data row1 col2\" >0.163</td>\n",
       "                        <td id=\"T_ac8022a4_dc65_11eb_af49_000d3afb088erow1_col3\" class=\"data row1 col3\" >0.184</td>\n",
       "            </tr>\n",
       "            <tr>\n",
       "                        <th id=\"T_ac8022a4_dc65_11eb_af49_000d3afb088elevel0_row2\" class=\"row_heading level0 row2\" >10</th>\n",
       "                        <td id=\"T_ac8022a4_dc65_11eb_af49_000d3afb088erow2_col0\" class=\"data row2 col0\" >1.09e+04</td>\n",
       "                        <td id=\"T_ac8022a4_dc65_11eb_af49_000d3afb088erow2_col1\" class=\"data row2 col1\" >1.14e+04</td>\n",
       "                        <td id=\"T_ac8022a4_dc65_11eb_af49_000d3afb088erow2_col2\" class=\"data row2 col2\" >0.0997</td>\n",
       "                        <td id=\"T_ac8022a4_dc65_11eb_af49_000d3afb088erow2_col3\" class=\"data row2 col3\" >0.122</td>\n",
       "            </tr>\n",
       "            <tr>\n",
       "                        <th id=\"T_ac8022a4_dc65_11eb_af49_000d3afb088elevel0_row3\" class=\"row_heading level0 row3\" >15</th>\n",
       "                        <td id=\"T_ac8022a4_dc65_11eb_af49_000d3afb088erow3_col0\" class=\"data row3 col0\" >1.05e+04</td>\n",
       "                        <td id=\"T_ac8022a4_dc65_11eb_af49_000d3afb088erow3_col1\" class=\"data row3 col1\" >1.11e+04</td>\n",
       "                        <td id=\"T_ac8022a4_dc65_11eb_af49_000d3afb088erow3_col2\" class=\"data row3 col2\" >0.0768</td>\n",
       "                        <td id=\"T_ac8022a4_dc65_11eb_af49_000d3afb088erow3_col3\" class=\"data row3 col3\" >0.0898</td>\n",
       "            </tr>\n",
       "    </tbody></table>"
      ],
      "text/plain": [
       "<pandas.io.formats.style.Styler at 0x7f7585ae6550>"
      ]
     },
     "metadata": {},
     "output_type": "display_data"
    },
    {
     "name": "stdout",
     "output_type": "stream",
     "text": [
      "[\u001b[1mtardis.simulation.base\u001b[0m][\u001b[1;37mINFO\u001b[0m   ]  None (\u001b[1mbase.py\u001b[0m:433)\n"
     ]
    },
    {
     "name": "stdout",
     "output_type": "stream",
     "text": [
      "[\u001b[1mtardis.simulation.base\u001b[0m][\u001b[1;37mINFO\u001b[0m   ]  \n",
      "\tCurrent t_inner = 11191.850 K\n",
      "\tExpected t_inner for next iteration = 10164.556 K\n",
      " (\u001b[1mbase.py\u001b[0m:448)\n"
     ]
    },
    {
     "name": "stdout",
     "output_type": "stream",
     "text": [
      "[\u001b[1mtardis.simulation.base\u001b[0m][\u001b[1;37mINFO\u001b[0m   ]  \n",
      "\tStarting iteration 17 of 20 (\u001b[1mbase.py\u001b[0m:325)\n"
     ]
    },
    {
     "name": "stdout",
     "output_type": "stream",
     "text": [
      "[\u001b[1mtardis.simulation.base\u001b[0m][\u001b[1;37mINFO\u001b[0m   ]  \n",
      "\tLuminosity emitted   = 8.803e+42 erg / s\n",
      "\tLuminosity absorbed  = 2.816e+42 erg / s\n",
      "\tLuminosity requested = 1.059e+43 erg / s\n",
      " (\u001b[1mbase.py\u001b[0m:453)\n"
     ]
    },
    {
     "name": "stdout",
     "output_type": "stream",
     "text": [
      "[\u001b[1mtardis.simulation.base\u001b[0m][\u001b[1;37mINFO\u001b[0m   ]  \n",
      "\tPlasma stratification: (\u001b[1mbase.py\u001b[0m:430)\n"
     ]
    },
    {
     "data": {
      "text/html": [
       "<style  type=\"text/css\" >\n",
       "</style><table id=\"T_ace46606_dc65_11eb_af49_000d3afb088e\" ><thead>    <tr>        <th class=\"index_name level0\" >Shell No.</th>        <th class=\"col_heading level0 col0\" >t_rad</th>        <th class=\"col_heading level0 col1\" >next_t_rad</th>        <th class=\"col_heading level0 col2\" >w</th>        <th class=\"col_heading level0 col3\" >next_w</th>    </tr></thead><tbody>\n",
       "                <tr>\n",
       "                        <th id=\"T_ace46606_dc65_11eb_af49_000d3afb088elevel0_row0\" class=\"row_heading level0 row0\" >0</th>\n",
       "                        <td id=\"T_ace46606_dc65_11eb_af49_000d3afb088erow0_col0\" class=\"data row0 col0\" >1.15e+04</td>\n",
       "                        <td id=\"T_ace46606_dc65_11eb_af49_000d3afb088erow0_col1\" class=\"data row0 col1\" >1.07e+04</td>\n",
       "                        <td id=\"T_ace46606_dc65_11eb_af49_000d3afb088erow0_col2\" class=\"data row0 col2\" >0.495</td>\n",
       "                        <td id=\"T_ace46606_dc65_11eb_af49_000d3afb088erow0_col3\" class=\"data row0 col3\" >0.439</td>\n",
       "            </tr>\n",
       "            <tr>\n",
       "                        <th id=\"T_ace46606_dc65_11eb_af49_000d3afb088elevel0_row1\" class=\"row_heading level0 row1\" >5</th>\n",
       "                        <td id=\"T_ace46606_dc65_11eb_af49_000d3afb088erow1_col0\" class=\"data row1 col0\" >1.18e+04</td>\n",
       "                        <td id=\"T_ace46606_dc65_11eb_af49_000d3afb088erow1_col1\" class=\"data row1 col1\" >1.11e+04</td>\n",
       "                        <td id=\"T_ace46606_dc65_11eb_af49_000d3afb088erow1_col2\" class=\"data row1 col2\" >0.184</td>\n",
       "                        <td id=\"T_ace46606_dc65_11eb_af49_000d3afb088erow1_col3\" class=\"data row1 col3\" >0.16</td>\n",
       "            </tr>\n",
       "            <tr>\n",
       "                        <th id=\"T_ace46606_dc65_11eb_af49_000d3afb088elevel0_row2\" class=\"row_heading level0 row2\" >10</th>\n",
       "                        <td id=\"T_ace46606_dc65_11eb_af49_000d3afb088erow2_col0\" class=\"data row2 col0\" >1.14e+04</td>\n",
       "                        <td id=\"T_ace46606_dc65_11eb_af49_000d3afb088erow2_col1\" class=\"data row2 col1\" >1.1e+04</td>\n",
       "                        <td id=\"T_ace46606_dc65_11eb_af49_000d3afb088erow2_col2\" class=\"data row2 col2\" >0.122</td>\n",
       "                        <td id=\"T_ace46606_dc65_11eb_af49_000d3afb088erow2_col3\" class=\"data row2 col3\" >0.0962</td>\n",
       "            </tr>\n",
       "            <tr>\n",
       "                        <th id=\"T_ace46606_dc65_11eb_af49_000d3afb088elevel0_row3\" class=\"row_heading level0 row3\" >15</th>\n",
       "                        <td id=\"T_ace46606_dc65_11eb_af49_000d3afb088erow3_col0\" class=\"data row3 col0\" >1.11e+04</td>\n",
       "                        <td id=\"T_ace46606_dc65_11eb_af49_000d3afb088erow3_col1\" class=\"data row3 col1\" >1.05e+04</td>\n",
       "                        <td id=\"T_ace46606_dc65_11eb_af49_000d3afb088erow3_col2\" class=\"data row3 col2\" >0.0898</td>\n",
       "                        <td id=\"T_ace46606_dc65_11eb_af49_000d3afb088erow3_col3\" class=\"data row3 col3\" >0.0763</td>\n",
       "            </tr>\n",
       "    </tbody></table>"
      ],
      "text/plain": [
       "<pandas.io.formats.style.Styler at 0x7f7586dddbd0>"
      ]
     },
     "metadata": {},
     "output_type": "display_data"
    },
    {
     "name": "stdout",
     "output_type": "stream",
     "text": [
      "[\u001b[1mtardis.simulation.base\u001b[0m][\u001b[1;37mINFO\u001b[0m   ]  None (\u001b[1mbase.py\u001b[0m:433)\n"
     ]
    },
    {
     "name": "stdout",
     "output_type": "stream",
     "text": [
      "[\u001b[1mtardis.simulation.base\u001b[0m][\u001b[1;37mINFO\u001b[0m   ]  \n",
      "\tCurrent t_inner = 10164.556 K\n",
      "\tExpected t_inner for next iteration = 11150.010 K\n",
      " (\u001b[1mbase.py\u001b[0m:448)\n"
     ]
    },
    {
     "name": "stdout",
     "output_type": "stream",
     "text": [
      "[\u001b[1mtardis.simulation.base\u001b[0m][\u001b[1;37mINFO\u001b[0m   ]  \n",
      "\tStarting iteration 18 of 20 (\u001b[1mbase.py\u001b[0m:325)\n"
     ]
    },
    {
     "name": "stdout",
     "output_type": "stream",
     "text": [
      "[\u001b[1mtardis.simulation.base\u001b[0m][\u001b[1;37mINFO\u001b[0m   ]  \n",
      "\tLuminosity emitted   = 1.271e+43 erg / s\n",
      "\tLuminosity absorbed  = 4.117e+42 erg / s\n",
      "\tLuminosity requested = 1.059e+43 erg / s\n",
      " (\u001b[1mbase.py\u001b[0m:453)\n"
     ]
    },
    {
     "name": "stdout",
     "output_type": "stream",
     "text": [
      "[\u001b[1mtardis.simulation.base\u001b[0m][\u001b[1;37mINFO\u001b[0m   ]  \n",
      "\tPlasma stratification: (\u001b[1mbase.py\u001b[0m:430)\n"
     ]
    },
    {
     "data": {
      "text/html": [
       "<style  type=\"text/css\" >\n",
       "</style><table id=\"T_ad42798a_dc65_11eb_af49_000d3afb088e\" ><thead>    <tr>        <th class=\"index_name level0\" >Shell No.</th>        <th class=\"col_heading level0 col0\" >t_rad</th>        <th class=\"col_heading level0 col1\" >next_t_rad</th>        <th class=\"col_heading level0 col2\" >w</th>        <th class=\"col_heading level0 col3\" >next_w</th>    </tr></thead><tbody>\n",
       "                <tr>\n",
       "                        <th id=\"T_ad42798a_dc65_11eb_af49_000d3afb088elevel0_row0\" class=\"row_heading level0 row0\" >0</th>\n",
       "                        <td id=\"T_ad42798a_dc65_11eb_af49_000d3afb088erow0_col0\" class=\"data row0 col0\" >1.07e+04</td>\n",
       "                        <td id=\"T_ad42798a_dc65_11eb_af49_000d3afb088erow0_col1\" class=\"data row0 col1\" >1.14e+04</td>\n",
       "                        <td id=\"T_ad42798a_dc65_11eb_af49_000d3afb088erow0_col2\" class=\"data row0 col2\" >0.439</td>\n",
       "                        <td id=\"T_ad42798a_dc65_11eb_af49_000d3afb088erow0_col3\" class=\"data row0 col3\" >0.492</td>\n",
       "            </tr>\n",
       "            <tr>\n",
       "                        <th id=\"T_ad42798a_dc65_11eb_af49_000d3afb088elevel0_row1\" class=\"row_heading level0 row1\" >5</th>\n",
       "                        <td id=\"T_ad42798a_dc65_11eb_af49_000d3afb088erow1_col0\" class=\"data row1 col0\" >1.11e+04</td>\n",
       "                        <td id=\"T_ad42798a_dc65_11eb_af49_000d3afb088erow1_col1\" class=\"data row1 col1\" >1.17e+04</td>\n",
       "                        <td id=\"T_ad42798a_dc65_11eb_af49_000d3afb088erow1_col2\" class=\"data row1 col2\" >0.16</td>\n",
       "                        <td id=\"T_ad42798a_dc65_11eb_af49_000d3afb088erow1_col3\" class=\"data row1 col3\" >0.186</td>\n",
       "            </tr>\n",
       "            <tr>\n",
       "                        <th id=\"T_ad42798a_dc65_11eb_af49_000d3afb088elevel0_row2\" class=\"row_heading level0 row2\" >10</th>\n",
       "                        <td id=\"T_ad42798a_dc65_11eb_af49_000d3afb088erow2_col0\" class=\"data row2 col0\" >1.1e+04</td>\n",
       "                        <td id=\"T_ad42798a_dc65_11eb_af49_000d3afb088erow2_col1\" class=\"data row2 col1\" >1.15e+04</td>\n",
       "                        <td id=\"T_ad42798a_dc65_11eb_af49_000d3afb088erow2_col2\" class=\"data row2 col2\" >0.0962</td>\n",
       "                        <td id=\"T_ad42798a_dc65_11eb_af49_000d3afb088erow2_col3\" class=\"data row2 col3\" >0.117</td>\n",
       "            </tr>\n",
       "            <tr>\n",
       "                        <th id=\"T_ad42798a_dc65_11eb_af49_000d3afb088elevel0_row3\" class=\"row_heading level0 row3\" >15</th>\n",
       "                        <td id=\"T_ad42798a_dc65_11eb_af49_000d3afb088erow3_col0\" class=\"data row3 col0\" >1.05e+04</td>\n",
       "                        <td id=\"T_ad42798a_dc65_11eb_af49_000d3afb088erow3_col1\" class=\"data row3 col1\" >1.11e+04</td>\n",
       "                        <td id=\"T_ad42798a_dc65_11eb_af49_000d3afb088erow3_col2\" class=\"data row3 col2\" >0.0763</td>\n",
       "                        <td id=\"T_ad42798a_dc65_11eb_af49_000d3afb088erow3_col3\" class=\"data row3 col3\" >0.0876</td>\n",
       "            </tr>\n",
       "    </tbody></table>"
      ],
      "text/plain": [
       "<pandas.io.formats.style.Styler at 0x7f75857dfc90>"
      ]
     },
     "metadata": {},
     "output_type": "display_data"
    },
    {
     "name": "stdout",
     "output_type": "stream",
     "text": [
      "[\u001b[1mtardis.simulation.base\u001b[0m][\u001b[1;37mINFO\u001b[0m   ]  None (\u001b[1mbase.py\u001b[0m:433)\n"
     ]
    },
    {
     "name": "stdout",
     "output_type": "stream",
     "text": [
      "[\u001b[1mtardis.simulation.base\u001b[0m][\u001b[1;37mINFO\u001b[0m   ]  \n",
      "\tCurrent t_inner = 11150.010 K\n",
      "\tExpected t_inner for next iteration = 10180.809 K\n",
      " (\u001b[1mbase.py\u001b[0m:448)\n"
     ]
    },
    {
     "name": "stdout",
     "output_type": "stream",
     "text": [
      "[\u001b[1mtardis.simulation.base\u001b[0m][\u001b[1;37mINFO\u001b[0m   ]  \n",
      "\tStarting iteration 19 of 20 (\u001b[1mbase.py\u001b[0m:325)\n"
     ]
    },
    {
     "name": "stdout",
     "output_type": "stream",
     "text": [
      "[\u001b[1mtardis.simulation.base\u001b[0m][\u001b[1;37mINFO\u001b[0m   ]  \n",
      "\tLuminosity emitted   = 8.820e+42 erg / s\n",
      "\tLuminosity absorbed  = 2.873e+42 erg / s\n",
      "\tLuminosity requested = 1.059e+43 erg / s\n",
      " (\u001b[1mbase.py\u001b[0m:453)\n"
     ]
    },
    {
     "name": "stdout",
     "output_type": "stream",
     "text": [
      "[\u001b[1mtardis.simulation.base\u001b[0m][\u001b[1;37mINFO\u001b[0m   ]  \n",
      "\tPlasma stratification: (\u001b[1mbase.py\u001b[0m:430)\n"
     ]
    },
    {
     "data": {
      "text/html": [
       "<style  type=\"text/css\" >\n",
       "</style><table id=\"T_ada5cdf0_dc65_11eb_af49_000d3afb088e\" ><thead>    <tr>        <th class=\"index_name level0\" >Shell No.</th>        <th class=\"col_heading level0 col0\" >t_rad</th>        <th class=\"col_heading level0 col1\" >next_t_rad</th>        <th class=\"col_heading level0 col2\" >w</th>        <th class=\"col_heading level0 col3\" >next_w</th>    </tr></thead><tbody>\n",
       "                <tr>\n",
       "                        <th id=\"T_ada5cdf0_dc65_11eb_af49_000d3afb088elevel0_row0\" class=\"row_heading level0 row0\" >0</th>\n",
       "                        <td id=\"T_ada5cdf0_dc65_11eb_af49_000d3afb088erow0_col0\" class=\"data row0 col0\" >1.14e+04</td>\n",
       "                        <td id=\"T_ada5cdf0_dc65_11eb_af49_000d3afb088erow0_col1\" class=\"data row0 col1\" >1.07e+04</td>\n",
       "                        <td id=\"T_ada5cdf0_dc65_11eb_af49_000d3afb088erow0_col2\" class=\"data row0 col2\" >0.492</td>\n",
       "                        <td id=\"T_ada5cdf0_dc65_11eb_af49_000d3afb088erow0_col3\" class=\"data row0 col3\" >0.441</td>\n",
       "            </tr>\n",
       "            <tr>\n",
       "                        <th id=\"T_ada5cdf0_dc65_11eb_af49_000d3afb088elevel0_row1\" class=\"row_heading level0 row1\" >5</th>\n",
       "                        <td id=\"T_ada5cdf0_dc65_11eb_af49_000d3afb088erow1_col0\" class=\"data row1 col0\" >1.17e+04</td>\n",
       "                        <td id=\"T_ada5cdf0_dc65_11eb_af49_000d3afb088erow1_col1\" class=\"data row1 col1\" >1.11e+04</td>\n",
       "                        <td id=\"T_ada5cdf0_dc65_11eb_af49_000d3afb088erow1_col2\" class=\"data row1 col2\" >0.186</td>\n",
       "                        <td id=\"T_ada5cdf0_dc65_11eb_af49_000d3afb088erow1_col3\" class=\"data row1 col3\" >0.161</td>\n",
       "            </tr>\n",
       "            <tr>\n",
       "                        <th id=\"T_ada5cdf0_dc65_11eb_af49_000d3afb088elevel0_row2\" class=\"row_heading level0 row2\" >10</th>\n",
       "                        <td id=\"T_ada5cdf0_dc65_11eb_af49_000d3afb088erow2_col0\" class=\"data row2 col0\" >1.15e+04</td>\n",
       "                        <td id=\"T_ada5cdf0_dc65_11eb_af49_000d3afb088erow2_col1\" class=\"data row2 col1\" >1.09e+04</td>\n",
       "                        <td id=\"T_ada5cdf0_dc65_11eb_af49_000d3afb088erow2_col2\" class=\"data row2 col2\" >0.117</td>\n",
       "                        <td id=\"T_ada5cdf0_dc65_11eb_af49_000d3afb088erow2_col3\" class=\"data row2 col3\" >0.1</td>\n",
       "            </tr>\n",
       "            <tr>\n",
       "                        <th id=\"T_ada5cdf0_dc65_11eb_af49_000d3afb088elevel0_row3\" class=\"row_heading level0 row3\" >15</th>\n",
       "                        <td id=\"T_ada5cdf0_dc65_11eb_af49_000d3afb088erow3_col0\" class=\"data row3 col0\" >1.11e+04</td>\n",
       "                        <td id=\"T_ada5cdf0_dc65_11eb_af49_000d3afb088erow3_col1\" class=\"data row3 col1\" >1.05e+04</td>\n",
       "                        <td id=\"T_ada5cdf0_dc65_11eb_af49_000d3afb088erow3_col2\" class=\"data row3 col2\" >0.0876</td>\n",
       "                        <td id=\"T_ada5cdf0_dc65_11eb_af49_000d3afb088erow3_col3\" class=\"data row3 col3\" >0.0765</td>\n",
       "            </tr>\n",
       "    </tbody></table>"
      ],
      "text/plain": [
       "<pandas.io.formats.style.Styler at 0x7f7585b87fd0>"
      ]
     },
     "metadata": {},
     "output_type": "display_data"
    },
    {
     "name": "stdout",
     "output_type": "stream",
     "text": [
      "[\u001b[1mtardis.simulation.base\u001b[0m][\u001b[1;37mINFO\u001b[0m   ]  None (\u001b[1mbase.py\u001b[0m:433)\n"
     ]
    },
    {
     "name": "stdout",
     "output_type": "stream",
     "text": [
      "[\u001b[1mtardis.simulation.base\u001b[0m][\u001b[1;37mINFO\u001b[0m   ]  \n",
      "\tCurrent t_inner = 10180.809 K\n",
      "\tExpected t_inner for next iteration = 11157.125 K\n",
      " (\u001b[1mbase.py\u001b[0m:448)\n"
     ]
    },
    {
     "name": "stdout",
     "output_type": "stream",
     "text": [
      "[\u001b[1mtardis.simulation.base\u001b[0m][\u001b[1;37mINFO\u001b[0m   ]  \n",
      "\tStarting iteration 20 of 20 (\u001b[1mbase.py\u001b[0m:325)\n"
     ]
    },
    {
     "name": "stdout",
     "output_type": "stream",
     "text": [
      "[\u001b[1mtardis.simulation.base\u001b[0m][\u001b[1;37mINFO\u001b[0m   ]  \n",
      "\tLuminosity emitted   = 1.272e+43 erg / s\n",
      "\tLuminosity absorbed  = 4.149e+42 erg / s\n",
      "\tLuminosity requested = 1.059e+43 erg / s\n",
      " (\u001b[1mbase.py\u001b[0m:453)\n"
     ]
    },
    {
     "name": "stdout",
     "output_type": "stream",
     "text": [
      "[\u001b[1mtardis.simulation.base\u001b[0m][\u001b[1;37mINFO\u001b[0m   ]  \n",
      "\tSimulation finished in 20 iterations \n",
      "\tSimulation took 45.16 s\n",
      " (\u001b[1mbase.py\u001b[0m:384)\n"
     ]
    },
    {
     "name": "stdout",
     "output_type": "stream",
     "text": [
      " "
     ]
    },
    {
     "name": "stdout",
     "output_type": "stream",
     "text": [
      "\n",
      "*** Profile stats marshalled to file '/tmp/tmpm3o00wv8'. \n",
      "Embedding SnakeViz in this document...\n"
     ]
    },
    {
     "data": {
      "text/html": [
       "\n",
       "<iframe id='snakeviz-b4d07832-dc65-11eb-af49-000d3afb088e' frameborder=0 seamless width='100%' height='1000'></iframe>\n",
       "<script>document.getElementById(\"snakeviz-b4d07832-dc65-11eb-af49-000d3afb088e\").setAttribute(\"src\", \"http://\" + document.location.hostname + \":8080/snakeviz/%2Ftmp%2Ftmpm3o00wv8\")</script>\n"
      ],
      "text/plain": [
       "<IPython.core.display.HTML object>"
      ]
     },
     "metadata": {},
     "output_type": "display_data"
    }
   ],
   "source": [
    "%%snakeviz\n",
    "\n",
    "run_tardis('tardis_example.yml')"
   ]
  },
  {
   "cell_type": "markdown",
   "id": "4b52662e",
   "metadata": {},
   "source": [
    "As SnakeViz uses a web browser to create the HTML to display, when this notebook is run the HTML isn’t viewable. In order to view this a picture of the HTML output is saved and displayed below.\n",
    "\n",
    "The SnakeViz visualization gives two things. At the top is a stack trace, where you can see which functions call others, and how long those functions take in respect to the caller function. At the bottom is all of the information that cProfile provides.\n",
    "\n",
    "The bottom left montecarlo_radial1d is montecarlo_main_loop. This function does a majority of the computation, yet there is nothing below it. This is because it, and all the functions that it calls, are Numba functions. montecarlo_main_loop is visible as montecarlo_radial1d calls it, but the functions that it calls are not visible as it is a Numba function.\n",
    "\n",
    "If the SnakeViz is run again without restarting the kernel, then the times will decrease and more time will be spent in montecarlo_main_loop relative to montecarlo_radial1d, as the Numba functions will have all compiled.\n",
    "\n",
    "If you run this notebook the HTML from cell 2 will be displayed at the bottom without issue; the lower cell is  just a solution to display the SnakeViz output without having access to the HTML."
   ]
  },
  {
   "cell_type": "code",
   "execution_count": 3,
   "id": "ed48d42d",
   "metadata": {
    "execution": {
     "iopub.execute_input": "2021-07-04T01:18:17.845305Z",
     "iopub.status.busy": "2021-07-04T01:18:17.844738Z",
     "iopub.status.idle": "2021-07-04T01:18:17.852429Z",
     "shell.execute_reply": "2021-07-04T01:18:17.852843Z"
    },
    "scrolled": false
   },
   "outputs": [
    {
     "data": {
      "image/png": "[encoded data removed]",
      "text/plain": [
       "<IPython.core.display.Image object>"
      ]
     },
     "metadata": {},
     "output_type": "display_data"
    }
   ],
   "source": [
    "from IPython.display import display, Image\n",
    "\n",
    "display(Image(filename='tardis_prof.png'))"
   ]
  }
 ],
 "metadata": {
  "celltoolbar": "Raw Cell Format",
  "kernelspec": {
   "display_name": "Python 3",
   "language": "python",
   "name": "python3"
  },
  "language_info": {
   "codemirror_mode": {
    "name": "ipython",
    "version": 3
   },
   "file_extension": ".py",
   "mimetype": "text/x-python",
   "name": "python",
   "nbconvert_exporter": "python",
   "pygments_lexer": "ipython3",
   "version": "3.7.10"
  }
 },
 "nbformat": 4,
 "nbformat_minor": 5
}
